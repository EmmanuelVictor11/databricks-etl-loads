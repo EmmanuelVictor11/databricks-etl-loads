{
 "cells": [
  {
   "cell_type": "code",
   "execution_count": 0,
   "metadata": {
    "application/vnd.databricks.v1+cell": {
     "cellMetadata": {
      "byteLimit": 2048000,
      "rowLimit": 10000
     },
     "inputWidgets": {},
     "nuid": "08f21e7c-6029-4436-9cb8-ba27f513a5cd",
     "showTitle": false,
     "title": ""
    }
   },
   "outputs": [],
   "source": [
    "# dfRaw = spark.sql(\"\"\"select *\n",
    "#                   , dateadd(hour,-3,current_timestamp()) as dt_referencia_atualizacao \n",
    "#         from dbstage.tbcat\n",
    "# \"\"\")"
   ]
  },
  {
   "cell_type": "code",
   "execution_count": 0,
   "metadata": {
    "application/vnd.databricks.v1+cell": {
     "cellMetadata": {
      "byteLimit": 2048000,
      "rowLimit": 10000
     },
     "inputWidgets": {},
     "nuid": "cb0f9ed9-ec07-4f2a-8bf7-b648b2c3d99e",
     "showTitle": false,
     "title": ""
    }
   },
   "outputs": [
    {
     "output_type": "stream",
     "name": "stdout",
     "output_type": "stream",
     "text": [
      "Out[4]: DataFrame[]"
     ]
    }
   ],
   "source": [
    "# (dfRaw\n",
    "#     .write\n",
    "#     .format(\"delta\")\n",
    "#     .mode(\"overwrite\")\n",
    "#     .option(\"overwriteschema\", True)\n",
    "#     .save(\"/dbfs/tmp/dbraw/tbCat\")\n",
    "# )\n",
    "# spark.sql(\"create table if not exists dbraw.tbcat using delta location '/dbfs/tmp/dbraw/tbCat'\")"
   ]
  },
  {
   "cell_type": "code",
   "execution_count": 0,
   "metadata": {
    "application/vnd.databricks.v1+cell": {
     "cellMetadata": {
      "byteLimit": 2048000,
      "implicitDf": true,
      "rowLimit": 10000
     },
     "inputWidgets": {},
     "nuid": "bc6a859d-4d95-4ee4-a809-c66aedd2656c",
     "showTitle": false,
     "title": ""
    }
   },
   "outputs": [
    {
     "output_type": "display_data",
     "data": {
      "text/html": [
       "<style scoped>\n",
       "  .table-result-container {\n",
       "    max-height: 300px;\n",
       "    overflow: auto;\n",
       "  }\n",
       "  table, th, td {\n",
       "    border: 1px solid black;\n",
       "    border-collapse: collapse;\n",
       "  }\n",
       "  th, td {\n",
       "    padding: 5px;\n",
       "  }\n",
       "  th {\n",
       "    text-align: left;\n",
       "  }\n",
       "</style><div class='table-result-container'><table class='table-result'><thead style='background-color: white'><tr><th>num_affected_rows</th><th>num_updated_rows</th><th>num_deleted_rows</th><th>num_inserted_rows</th></tr></thead><tbody><tr><td>90</td><td>90</td><td>0</td><td>0</td></tr></tbody></table></div>"
      ]
     },
     "metadata": {
      "application/vnd.databricks.v1+output": {
       "addedWidgets": {},
       "aggData": [],
       "aggError": "",
       "aggOverflow": false,
       "aggSchema": [],
       "aggSeriesLimitReached": false,
       "aggType": "",
       "arguments": {},
       "columnCustomDisplayInfos": {},
       "data": [
        [
         90,
         90,
         0,
         0
        ]
       ],
       "datasetInfos": [],
       "dbfsResultPath": null,
       "isJsonSchema": true,
       "metadata": {},
       "overflow": false,
       "plotOptions": {
        "customPlotOptions": {},
        "displayType": "table",
        "pivotAggregation": null,
        "pivotColumns": null,
        "xColumns": null,
        "yColumns": null
       },
       "removedWidgets": [],
       "schema": [
        {
         "metadata": "{}",
         "name": "num_affected_rows",
         "type": "\"long\""
        },
        {
         "metadata": "{}",
         "name": "num_updated_rows",
         "type": "\"long\""
        },
        {
         "metadata": "{}",
         "name": "num_deleted_rows",
         "type": "\"long\""
        },
        {
         "metadata": "{}",
         "name": "num_inserted_rows",
         "type": "\"long\""
        }
       ],
       "type": "table"
      }
     },
     "output_type": "display_data"
    }
   ],
   "source": [
    "%sql \n",
    "MERGE INTO dbraw.tbcat AS a\n",
    "USING (select distinct * from dbstage.tbcat) AS b\n",
    "ON a.id = b.id\n",
    "WHEN MATCHED THEN\n",
    "UPDATE SET\n",
    "   a.categories                      =     b.categories\n",
    "  ,a.breeds                         =     b.breeds\n",
    "  ,a.height                         =     b.height\n",
    "  ,a.url                            =     b.url\n",
    "  ,a.width                          =     b.width\n",
    "  ,a.dt_referencia_criacao          =     b.dt_referencia_criacao\n",
    "  ,a.dt_referencia_atualizacao      =     Dateadd(hour, -3, CURRENT_TIMESTAMP())\n",
    "WHEN NOT MATCHED THEN\n",
    "INSERT\n",
    "(\n",
    " categories\n",
    " ,breeds\n",
    " ,height\n",
    " ,id\n",
    " ,url\n",
    " ,width\n",
    " ,dt_referencia_criacao\n",
    ")\n",
    "VALUES\n",
    "(\n",
    "  categories\n",
    "  ,breeds\n",
    "  ,height\n",
    "  ,id\n",
    "  ,url\n",
    "  ,width\n",
    "  ,DATEADD(HOUR, -3, CURRENT_TIMESTAMP())\n",
    ")\n"
   ]
  }
 ],
 "metadata": {
  "application/vnd.databricks.v1+notebook": {
   "dashboards": [],
   "environmentMetadata": null,
   "language": "python",
   "notebookMetadata": {
    "mostRecentlyExecutedCommandWithImplicitDF": {
     "commandId": 1365234291294201,
     "dataframes": [
      "_sqldf"
     ]
    },
    "pythonIndentUnit": 4
   },
   "notebookName": "NboRawCat",
   "widgets": {}
  }
 },
 "nbformat": 4,
 "nbformat_minor": 0
}
