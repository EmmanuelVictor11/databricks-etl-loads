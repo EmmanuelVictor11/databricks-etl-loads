{
 "cells": [
  {
   "cell_type": "code",
   "execution_count": 0,
   "metadata": {
    "application/vnd.databricks.v1+cell": {
     "cellMetadata": {
      "byteLimit": 2048000,
      "rowLimit": 10000
     },
     "inputWidgets": {},
     "nuid": "0135f24f-2898-4dbd-912c-dd64b1686665",
     "showTitle": false,
     "title": ""
    }
   },
   "outputs": [],
   "source": [
    "import requests\n",
    "from pyspark.sql import Row\n",
    "import json\n",
    "\n",
    "API_KEY = 'live_rXZLMuu9PVO0JAHa8Evurddbshb8ZGdgOiZjcuJ5cVvhRP9TML2G6Oqrl3Yto6pc'\n",
    "\n",
    "def get_cat(API_KEY):\n",
    "    url = f\"https://api.thecatapi.com/v1/images/search?api_key={API_KEY}\"\n",
    "\n",
    "    headers = { 'x-api-key' : f'{API_KEY}' }\n",
    "\n",
    "    response = requests.get(url, headers=headers)\n",
    "\n",
    "    if response.status_code == 200:\n",
    "        data = response.json()\n",
    "        return data\n",
    "    else:\n",
    "        return print(f\"Error: {response.status_code}, {response.text}\")"
   ]
  },
  {
   "cell_type": "code",
   "execution_count": 0,
   "metadata": {
    "application/vnd.databricks.v1+cell": {
     "cellMetadata": {
      "byteLimit": 2048000,
      "rowLimit": 10000
     },
     "inputWidgets": {},
     "nuid": "490ea620-9171-487d-9482-dfcdeacb615f",
     "showTitle": false,
     "title": ""
    }
   },
   "outputs": [
    {
     "output_type": "stream",
     "name": "stdout",
     "output_type": "stream",
     "text": [
      "Número da página: 1\nNúmero da página: 2\nNúmero da página: 3\nNúmero da página: 4\nNúmero da página: 5\nNúmero da página: 6\nNúmero da página: 7\nNúmero da página: 8\nNúmero da página: 9\nNúmero da página: 10\nNúmero da página: 11\nNúmero da página: 12\nNúmero da página: 13\nNúmero da página: 14\nNúmero da página: 15\nNúmero da página: 16\nNúmero da página: 17\nNúmero da página: 18\nNúmero da página: 19\nNúmero da página: 20\nNúmero da página: 21\nNúmero da página: 22\nNúmero da página: 23\nNúmero da página: 24\nNúmero da página: 25\nNúmero da página: 26\nNúmero da página: 27\nNúmero da página: 28\nNúmero da página: 29\nNúmero da página: 30\nNúmero da página: 31\nNúmero da página: 32\nNúmero da página: 33\nNúmero da página: 34\nNúmero da página: 35\nNúmero da página: 36\nNúmero da página: 37\nNúmero da página: 38\nNúmero da página: 39\nNúmero da página: 40\nNúmero da página: 41\nNúmero da página: 42\nNúmero da página: 43\nNúmero da página: 44\nNúmero da página: 45\nNúmero da página: 46\nNúmero da página: 47\nNúmero da página: 48\nNúmero da página: 49\nNúmero da página: 50\nNúmero da página: 51\nNúmero da página: 52\nNúmero da página: 53\nNúmero da página: 54\nNúmero da página: 55\nNúmero da página: 56\nNúmero da página: 57\nNúmero da página: 58\nNúmero da página: 59\nNúmero da página: 60\nNúmero da página: 61\nNúmero da página: 62\nNúmero da página: 63\nNúmero da página: 64\nNúmero da página: 65\nNúmero da página: 66\nNúmero da página: 67\nNúmero da página: 68\nNúmero da página: 69\nNúmero da página: 70\nNúmero da página: 71\nNúmero da página: 72\nNúmero da página: 73\nNúmero da página: 74\nNúmero da página: 75\nNúmero da página: 76\nNúmero da página: 77\nNúmero da página: 78\nNúmero da página: 79\nNúmero da página: 80\nNúmero da página: 81\nNúmero da página: 82\nNúmero da página: 83\nNúmero da página: 84\nNúmero da página: 85\nNúmero da página: 86\nNúmero da página: 87\nNúmero da página: 88\nNúmero da página: 89\nNúmero da página: 90\n"
     ]
    }
   ],
   "source": [
    "import time\n",
    "\n",
    "all_data = []\n",
    "page = 1\n",
    "\n",
    "while True and page <= 90:\n",
    "    data = get_cat(API_KEY)\n",
    "    time.sleep(1)\n",
    "    all_data.extend(data)\n",
    "    print(f'Número da página: {page}')\n",
    "\n",
    "    page += 1\n",
    "    time.sleep(1)"
   ]
  },
  {
   "cell_type": "code",
   "execution_count": 0,
   "metadata": {
    "application/vnd.databricks.v1+cell": {
     "cellMetadata": {
      "byteLimit": 2048000,
      "rowLimit": 10000
     },
     "inputWidgets": {},
     "nuid": "1b1e630f-5fa8-44ac-89d7-30045d9c7e69",
     "showTitle": false,
     "title": ""
    }
   },
   "outputs": [],
   "source": [
    "df = spark.read.json(spark.sparkContext.parallelize([all_data]))\n"
   ]
  },
  {
   "cell_type": "code",
   "execution_count": 0,
   "metadata": {
    "application/vnd.databricks.v1+cell": {
     "cellMetadata": {
      "byteLimit": 2048000,
      "rowLimit": 10000
     },
     "inputWidgets": {},
     "nuid": "1d4791ac-9ef0-4be8-8d52-9a725dc4ada4",
     "showTitle": false,
     "title": ""
    }
   },
   "outputs": [
    {
     "output_type": "display_data",
     "data": {
      "text/html": [
       "<style scoped>\n",
       "  .table-result-container {\n",
       "    max-height: 300px;\n",
       "    overflow: auto;\n",
       "  }\n",
       "  table, th, td {\n",
       "    border: 1px solid black;\n",
       "    border-collapse: collapse;\n",
       "  }\n",
       "  th, td {\n",
       "    padding: 5px;\n",
       "  }\n",
       "  th {\n",
       "    text-align: left;\n",
       "  }\n",
       "</style><div class='table-result-container'><table class='table-result'><thead style='background-color: white'><tr><th>breeds</th><th>categories</th><th>height</th><th>id</th><th>url</th><th>width</th><th>dt_referencia_criacao</th></tr></thead><tbody><tr><td>List()</td><td>null</td><td>332</td><td>5n8</td><td>https://cdn2.thecatapi.com/images/5n8.jpg</td><td>500</td><td>2024-10-01T16:41:19.156+0000</td></tr><tr><td>List()</td><td>null</td><td>669</td><td>MTY0MDIxOA</td><td>https://cdn2.thecatapi.com/images/MTY0MDIxOA.jpg</td><td>500</td><td>2024-10-01T16:41:19.156+0000</td></tr><tr><td>List(List(5, 5, Longhair, Persian Longhair, Shiraz, Shirazi, null, null, http://cfa.org/Breeds/BreedsKthruR/Persian.aspx, 2, IR, IR, Persians are sweet, gentle cats that can be playful or quiet and laid-back. Great with families and children, they absolutely love to lounge around the house. While they don’t mind a full house or active kids, they’ll usually hide when they need some alone time., 2, 1, 0, 5, 0, 3, 0, pers, 0, 3, 1, 14 - 15, Persian, 1, Iran (Persia), 0, -Zfz5z2jK, 0, 4, 0, 4, 2, 0, Affectionate, loyal, Sedate, Quiet, https://vcahospitals.com/know-your-pet/cat-breeds/persian, http://www.vetstreet.com/cats/persian, 1, List(9 - 14, 4 - 6), https://en.wikipedia.org/wiki/Persian_(cat)))</td><td>null</td><td>2304</td><td>tSbM4vHB_</td><td>https://cdn2.thecatapi.com/images/tSbM4vHB_.png</td><td>4096</td><td>2024-10-01T16:41:19.156+0000</td></tr><tr><td>List()</td><td>null</td><td>266</td><td>2j0</td><td>https://cdn2.thecatapi.com/images/2j0.jpg</td><td>400</td><td>2024-10-01T16:41:19.156+0000</td></tr><tr><td>List(List(5, 5, Siam, Thai Cat, null, null, http://cfa.org/Breeds/BreedsSthruT/Siamese.aspx, 4, TH, TH, While Siamese cats are extremely fond of their people, they will follow you around and supervise your every move, being talkative and opinionated. They are a demanding and social cat, that do not like being left alone for long periods., 5, 5, 0, 1, 0, 1, 1, siam, 0, 5, 1, 12 - 15, Siamese, 0, Thailand, 0, ai6Jps4sx, 0, 2, 0, 5, 5, 0, Active, Agile, Clever, Sociable, Loving, Energetic, https://vcahospitals.com/know-your-pet/cat-breeds/siamese, http://www.vetstreet.com/cats/siamese, 5, List(8 - 15, 4 - 7), https://en.wikipedia.org/wiki/Siamese_(cat)))</td><td>null</td><td>809</td><td>uTG1YFzJV</td><td>https://cdn2.thecatapi.com/images/uTG1YFzJV.jpg</td><td>1080</td><td>2024-10-01T16:41:19.156+0000</td></tr><tr><td>List()</td><td>null</td><td>500</td><td>20o</td><td>https://cdn2.thecatapi.com/images/20o.jpg</td><td>500</td><td>2024-10-01T16:41:19.156+0000</td></tr><tr><td>List()</td><td>null</td><td>640</td><td>9u8</td><td>https://cdn2.thecatapi.com/images/9u8.jpg</td><td>480</td><td>2024-10-01T16:41:19.156+0000</td></tr><tr><td>List()</td><td>null</td><td>864</td><td>dlj</td><td>https://cdn2.thecatapi.com/images/dlj.jpg</td><td>1152</td><td>2024-10-01T16:41:19.156+0000</td></tr><tr><td>List()</td><td>null</td><td>768</td><td>bth</td><td>https://cdn2.thecatapi.com/images/bth.jpg</td><td>1024</td><td>2024-10-01T16:41:19.156+0000</td></tr><tr><td>List()</td><td>null</td><td>395</td><td>a5d</td><td>https://cdn2.thecatapi.com/images/a5d.jpg</td><td>560</td><td>2024-10-01T16:41:19.156+0000</td></tr><tr><td>List(List(5, 5, Coon Cat, Maine Cat, Maine Shag, Snowshoe Cat, American Longhair, The Gentle Giants, null, null, http://cfa.org/Breeds/BreedsKthruR/MaineCoon.aspx, 4, US, US, They are known for their size and luxurious long coat Maine Coons are considered a gentle giant. The good-natured and affable Maine Coon adapts well to many lifestyles and personalities. She likes being with people and has the habit of following them around, but isn’t needy. Most Maine Coons love water and they can be quite good swimmers., 5, 3, 0, 3, 0, 3, 0, mcoo, 0, 5, 1, 12 - 15, Maine Coon, 1, United States, 0, OOD3VXAQn, 0, 3, 0, 3, 5, 0, Adaptable, Intelligent, Loving, Gentle, Independent, https://vcahospitals.com/know-your-pet/cat-breeds/maine-coon, http://www.vetstreet.com/cats/maine-coon, 1, List(12 - 18, 5 - 8), https://en.wikipedia.org/wiki/Maine_Coon))</td><td>null</td><td>2000</td><td>HD4lZB6BI</td><td>https://cdn2.thecatapi.com/images/HD4lZB6BI.jpg</td><td>1500</td><td>2024-10-01T16:41:19.156+0000</td></tr><tr><td>List()</td><td>List(List(2, space))</td><td>315</td><td>1q</td><td>https://cdn2.thecatapi.com/images/1q.gif</td><td>500</td><td>2024-10-01T16:41:19.156+0000</td></tr><tr><td>List()</td><td>List(List(6, caturday))</td><td>466</td><td>q5</td><td>https://cdn2.thecatapi.com/images/q5.jpg</td><td>700</td><td>2024-10-01T16:41:19.156+0000</td></tr><tr><td>List()</td><td>null</td><td>801</td><td>e1t</td><td>https://cdn2.thecatapi.com/images/e1t.jpg</td><td>600</td><td>2024-10-01T16:41:19.156+0000</td></tr><tr><td>List(List(5, 5, , null, null, null, 4, US, US, The Munchkin is an outgoing cat who enjoys being handled. She has lots of energy and is faster and more agile than she looks. The shortness of their legs does not seem to interfere with their running and leaping abilities., 5, 4, 0, 2, 0, 3, 0, munc, 0, 5, 1, 10 - 15, Munchkin, 0, United States, 0, j5cVSqLer, 0, 3, 1, 5, 5, 0, Agile, Easy Going, Intelligent, Playful, null, http://www.vetstreet.com/cats/munchkin, 3, List(5 - 9, 2 - 4), https://en.wikipedia.org/wiki/Munchkin_(cat)))</td><td>null</td><td>808</td><td>OjnSd2N2p</td><td>https://cdn2.thecatapi.com/images/OjnSd2N2p.jpg</td><td>1000</td><td>2024-10-01T16:41:19.156+0000</td></tr><tr><td>List()</td><td>null</td><td>355</td><td>1gt</td><td>https://cdn2.thecatapi.com/images/1gt.gif</td><td>190</td><td>2024-10-01T16:41:19.156+0000</td></tr><tr><td>List()</td><td>List(List(6, caturday))</td><td>700</td><td>pl</td><td>https://cdn2.thecatapi.com/images/pl.jpg</td><td>540</td><td>2024-10-01T16:41:19.156+0000</td></tr><tr><td>List()</td><td>null</td><td>456</td><td>ei0</td><td>https://cdn2.thecatapi.com/images/ei0.jpg</td><td>608</td><td>2024-10-01T16:41:19.156+0000</td></tr><tr><td>List(List(5, 5, Exotic, null, null, http://cfa.org/Breeds/BreedsCJ/Exotic.aspx, 3, US, US, The Exotic Shorthair is a gentle friendly cat that has the same personality as the Persian. They love having fun, don’t mind the company of other cats and dogs, also love to curl up for a sleep in a safe place. Exotics love their own people, but around strangers they are cautious at first. Given time, they usually warm up to visitors., 3, 3, 0, 2, 0, 3, 0, esho, 0, 3, 1, 12 - 15, Exotic Shorthair, 0, United States, 0, YnPrYEmfe, 0, 2, 0, 4, 2, 0, Affectionate, Sweet, Loyal, Quiet, Peaceful, https://vcahospitals.com/know-your-pet/cat-breeds/exotic-shorthair, http://www.vetstreet.com/cats/exotic-shorthair, 1, List(7 - 14, 3 - 6), https://en.wikipedia.org/wiki/Exotic_Shorthair))</td><td>null</td><td>2610</td><td>ySzdVwyb1</td><td>https://cdn2.thecatapi.com/images/ySzdVwyb1.jpg</td><td>4640</td><td>2024-10-01T16:41:19.156+0000</td></tr><tr><td>List()</td><td>null</td><td>900</td><td>MTk2OTMyNw</td><td>https://cdn2.thecatapi.com/images/MTk2OTMyNw.jpg</td><td>900</td><td>2024-10-01T16:41:19.156+0000</td></tr><tr><td>List()</td><td>null</td><td>331</td><td>b8n</td><td>https://cdn2.thecatapi.com/images/b8n.jpg</td><td>500</td><td>2024-10-01T16:41:19.156+0000</td></tr><tr><td>List()</td><td>List(List(6, caturday))</td><td>417</td><td>pb</td><td>https://cdn2.thecatapi.com/images/pb.jpg</td><td>625</td><td>2024-10-01T16:41:19.156+0000</td></tr><tr><td>List()</td><td>null</td><td>480</td><td>MTgyOTY1MQ</td><td>https://cdn2.thecatapi.com/images/MTgyOTY1MQ.jpg</td><td>640</td><td>2024-10-01T16:41:19.156+0000</td></tr><tr><td>List()</td><td>null</td><td>456</td><td>MTkxNjczNw</td><td>https://cdn2.thecatapi.com/images/MTkxNjczNw.jpg</td><td>610</td><td>2024-10-01T16:41:19.156+0000</td></tr><tr><td>List()</td><td>null</td><td>266</td><td>MTkzMTU5Nw</td><td>https://cdn2.thecatapi.com/images/MTkzMTU5Nw.gif</td><td>475</td><td>2024-10-01T16:41:19.156+0000</td></tr><tr><td>List()</td><td>null</td><td>622</td><td>cer</td><td>https://cdn2.thecatapi.com/images/cer.jpg</td><td>630</td><td>2024-10-01T16:41:19.156+0000</td></tr><tr><td>List()</td><td>null</td><td>510</td><td>dkt</td><td>https://cdn2.thecatapi.com/images/dkt.jpg</td><td>410</td><td>2024-10-01T16:41:19.156+0000</td></tr><tr><td>List(List(5, 5, Moscow Semi-longhair, HairSiberian Forest Cat, null, null, http://cfa.org/Breeds/BreedsSthruT/Siberian.aspx, 4, RU, RU, The Siberians dog like temperament and affection makes the ideal lap cat and will live quite happily indoors. Very agile and powerful, the Siberian cat can easily leap and reach high places, including the tops of refrigerators and even doors. , 5, 5, 0, 2, 0, 2, 1, sibe, 0, 5, 1, 12 - 15, Siberian, 1, Russia, 0, 3bkZAjRh1, 0, 3, 0, 4, 3, 0, Curious, Intelligent, Loyal, Sweet, Agile, Playful, Affectionate, https://vcahospitals.com/know-your-pet/cat-breeds/siberian, http://www.vetstreet.com/cats/siberian, 1, List(8 - 16, 4 - 7), https://en.wikipedia.org/wiki/Siberian_(cat)))</td><td>null</td><td>1080</td><td>rEcqVVVto</td><td>https://cdn2.thecatapi.com/images/rEcqVVVto.jpg</td><td>1080</td><td>2024-10-01T16:41:19.156+0000</td></tr><tr><td>List()</td><td>null</td><td>900</td><td>9r7</td><td>https://cdn2.thecatapi.com/images/9r7.jpg</td><td>900</td><td>2024-10-01T16:41:19.156+0000</td></tr><tr><td>List()</td><td>null</td><td>640</td><td>ats</td><td>https://cdn2.thecatapi.com/images/ats.jpg</td><td>428</td><td>2024-10-01T16:41:19.156+0000</td></tr><tr><td>List()</td><td>null</td><td>640</td><td>cdd</td><td>https://cdn2.thecatapi.com/images/cdd.jpg</td><td>427</td><td>2024-10-01T16:41:19.156+0000</td></tr><tr><td>List()</td><td>null</td><td>430</td><td>9vl</td><td>https://cdn2.thecatapi.com/images/9vl.jpg</td><td>650</td><td>2024-10-01T16:41:19.156+0000</td></tr><tr><td>List()</td><td>null</td><td>667</td><td>b97</td><td>https://cdn2.thecatapi.com/images/b97.jpg</td><td>500</td><td>2024-10-01T16:41:19.156+0000</td></tr><tr><td>List()</td><td>null</td><td>270</td><td>bl7</td><td>https://cdn2.thecatapi.com/images/bl7.jpg</td><td>285</td><td>2024-10-01T16:41:19.156+0000</td></tr><tr><td>List()</td><td>null</td><td>551</td><td>MjA3MzYxNQ</td><td>https://cdn2.thecatapi.com/images/MjA3MzYxNQ.jpg</td><td>405</td><td>2024-10-01T16:41:19.156+0000</td></tr><tr><td>List()</td><td>null</td><td>384</td><td>br5</td><td>https://cdn2.thecatapi.com/images/br5.jpg</td><td>512</td><td>2024-10-01T16:41:19.156+0000</td></tr><tr><td>List()</td><td>List(List(15, clothes))</td><td>333</td><td>MTc5OTExMQ</td><td>https://cdn2.thecatapi.com/images/MTc5OTExMQ.jpg</td><td>500</td><td>2024-10-01T16:41:19.156+0000</td></tr><tr><td>List()</td><td>null</td><td>331</td><td>9s7</td><td>https://cdn2.thecatapi.com/images/9s7.jpg</td><td>500</td><td>2024-10-01T16:41:19.156+0000</td></tr><tr><td>List()</td><td>null</td><td>484</td><td>blr</td><td>https://cdn2.thecatapi.com/images/blr.jpg</td><td>500</td><td>2024-10-01T16:41:19.156+0000</td></tr><tr><td>List()</td><td>null</td><td>1936</td><td>c47</td><td>https://cdn2.thecatapi.com/images/c47.jpg</td><td>2592</td><td>2024-10-01T16:41:19.156+0000</td></tr><tr><td>List()</td><td>null</td><td>450</td><td>46l</td><td>https://cdn2.thecatapi.com/images/46l.jpg</td><td>600</td><td>2024-10-01T16:41:19.156+0000</td></tr><tr><td>List()</td><td>null</td><td>333</td><td>d74</td><td>https://cdn2.thecatapi.com/images/d74.jpg</td><td>500</td><td>2024-10-01T16:41:19.156+0000</td></tr><tr><td>List()</td><td>null</td><td>2880</td><td>21p</td><td>https://cdn2.thecatapi.com/images/21p.jpg</td><td>4320</td><td>2024-10-01T16:41:19.156+0000</td></tr><tr><td>List()</td><td>null</td><td>333</td><td>db6</td><td>https://cdn2.thecatapi.com/images/db6.jpg</td><td>500</td><td>2024-10-01T16:41:19.156+0000</td></tr><tr><td>List()</td><td>null</td><td>335</td><td>eg9</td><td>https://cdn2.thecatapi.com/images/eg9.jpg</td><td>500</td><td>2024-10-01T16:41:19.156+0000</td></tr><tr><td>List()</td><td>null</td><td>375</td><td>efs</td><td>https://cdn2.thecatapi.com/images/efs.jpg</td><td>500</td><td>2024-10-01T16:41:19.156+0000</td></tr><tr><td>List()</td><td>null</td><td>281</td><td>auv</td><td>https://cdn2.thecatapi.com/images/auv.gif</td><td>500</td><td>2024-10-01T16:41:19.156+0000</td></tr><tr><td>List()</td><td>null</td><td>424</td><td>dlh</td><td>https://cdn2.thecatapi.com/images/dlh.jpg</td><td>640</td><td>2024-10-01T16:41:19.156+0000</td></tr><tr><td>List()</td><td>null</td><td>333</td><td>e70</td><td>https://cdn2.thecatapi.com/images/e70.jpg</td><td>500</td><td>2024-10-01T16:41:19.156+0000</td></tr><tr><td>List()</td><td>null</td><td>533</td><td>MTcwODY3OA</td><td>https://cdn2.thecatapi.com/images/MTcwODY3OA.gif</td><td>500</td><td>2024-10-01T16:41:19.156+0000</td></tr><tr><td>List()</td><td>null</td><td>206</td><td>18s</td><td>https://cdn2.thecatapi.com/images/18s.gif</td><td>500</td><td>2024-10-01T16:41:19.156+0000</td></tr><tr><td>List()</td><td>null</td><td>299</td><td>a22</td><td>https://cdn2.thecatapi.com/images/a22.jpg</td><td>450</td><td>2024-10-01T16:41:19.156+0000</td></tr><tr><td>List(List(5, 5, Skogkatt / Skaukatt, Norsk Skogkatt / Norsk Skaukatt, Weegie, null, null, http://cfa.org/Breeds/BreedsKthruR/NorwegianForestCat.aspx, 4, NO, NO, The Norwegian Forest Cat is a sweet, loving cat. She appreciates praise and loves to interact with her parent. She makes a loving companion and bonds with her parents once she accepts them for her own. She is still a hunter at heart. She loves to chase toys as if they are real. She is territorial and patrols several times each day to make certain that all is fine., 5, 3, 0, 2, 0, 3, 0, norw, 0, 4, null, 12 - 16, Norwegian Forest Cat, 1, Norway, 0, 06dgGmEOV, 0, 3, 0, 5, 5, 0, Sweet, Active, Intelligent, Social, Playful, Lively, Curious, https://vcahospitals.com/know-your-pet/cat-breeds/norwegian-forest-cat, http://www.vetstreet.com/cats/norwegian-forest-cat, 1, List(8 - 16, 4 - 7), https://en.wikipedia.org/wiki/Norwegian_Forest_Cat))</td><td>null</td><td>739</td><td>4mksJzUgG</td><td>https://cdn2.thecatapi.com/images/4mksJzUgG.png</td><td>1100</td><td>2024-10-01T16:41:19.156+0000</td></tr><tr><td>List()</td><td>List(List(2, space))</td><td>500</td><td>5hd</td><td>https://cdn2.thecatapi.com/images/5hd.jpg</td><td>499</td><td>2024-10-01T16:41:19.156+0000</td></tr><tr><td>List()</td><td>null</td><td>600</td><td>ac2</td><td>https://cdn2.thecatapi.com/images/ac2.jpg</td><td>900</td><td>2024-10-01T16:41:19.156+0000</td></tr><tr><td>List()</td><td>null</td><td>2272</td><td>a3v</td><td>https://cdn2.thecatapi.com/images/a3v.jpg</td><td>1704</td><td>2024-10-01T16:41:19.156+0000</td></tr><tr><td>List()</td><td>null</td><td>423</td><td>23q</td><td>https://cdn2.thecatapi.com/images/23q.jpg</td><td>500</td><td>2024-10-01T16:41:19.156+0000</td></tr><tr><td>List()</td><td>null</td><td>180</td><td>7pb</td><td>https://cdn2.thecatapi.com/images/7pb.gif</td><td>250</td><td>2024-10-01T16:41:19.156+0000</td></tr><tr><td>List()</td><td>null</td><td>500</td><td>2re</td><td>https://cdn2.thecatapi.com/images/2re.jpg</td><td>375</td><td>2024-10-01T16:41:19.156+0000</td></tr><tr><td>List()</td><td>null</td><td>313</td><td>dpa</td><td>https://cdn2.thecatapi.com/images/dpa.jpg</td><td>500</td><td>2024-10-01T16:41:19.156+0000</td></tr><tr><td>List()</td><td>null</td><td>563</td><td>c1v</td><td>https://cdn2.thecatapi.com/images/c1v.jpg</td><td>900</td><td>2024-10-01T16:41:19.156+0000</td></tr><tr><td>List()</td><td>null</td><td>453</td><td>MTU2OTU5OA</td><td>https://cdn2.thecatapi.com/images/MTU2OTU5OA.jpg</td><td>604</td><td>2024-10-01T16:41:19.156+0000</td></tr><tr><td>List()</td><td>null</td><td>304</td><td>4he</td><td>https://cdn2.thecatapi.com/images/4he.gif</td><td>400</td><td>2024-10-01T16:41:19.156+0000</td></tr><tr><td>List()</td><td>null</td><td>960</td><td>d7u</td><td>https://cdn2.thecatapi.com/images/d7u.jpg</td><td>632</td><td>2024-10-01T16:41:19.156+0000</td></tr><tr><td>List()</td><td>null</td><td>612</td><td>MjAzMDEwNw</td><td>https://cdn2.thecatapi.com/images/MjAzMDEwNw.jpg</td><td>612</td><td>2024-10-01T16:41:19.156+0000</td></tr><tr><td>List()</td><td>null</td><td>480</td><td>MTgyOTU2Mw</td><td>https://cdn2.thecatapi.com/images/MTgyOTU2Mw.jpg</td><td>640</td><td>2024-10-01T16:41:19.156+0000</td></tr><tr><td>List(List(5, 5, Longhair, Persian Longhair, Shiraz, Shirazi, null, null, http://cfa.org/Breeds/BreedsKthruR/Persian.aspx, 2, IR, IR, Persians are sweet, gentle cats that can be playful or quiet and laid-back. Great with families and children, they absolutely love to lounge around the house. While they don’t mind a full house or active kids, they’ll usually hide when they need some alone time., 2, 1, 0, 5, 0, 3, 0, pers, 0, 3, 1, 14 - 15, Persian, 1, Iran (Persia), 0, -Zfz5z2jK, 0, 4, 0, 4, 2, 0, Affectionate, loyal, Sedate, Quiet, https://vcahospitals.com/know-your-pet/cat-breeds/persian, http://www.vetstreet.com/cats/persian, 1, List(9 - 14, 4 - 6), https://en.wikipedia.org/wiki/Persian_(cat)))</td><td>null</td><td>747</td><td>-R_ccKPYo</td><td>https://cdn2.thecatapi.com/images/-R_ccKPYo.jpg</td><td>1000</td><td>2024-10-01T16:41:19.156+0000</td></tr><tr><td>List()</td><td>null</td><td>3000</td><td>3hs</td><td>https://cdn2.thecatapi.com/images/3hs.jpg</td><td>4000</td><td>2024-10-01T16:41:19.156+0000</td></tr><tr><td>List()</td><td>null</td><td>767</td><td>6rp</td><td>https://cdn2.thecatapi.com/images/6rp.jpg</td><td>1024</td><td>2024-10-01T16:41:19.156+0000</td></tr><tr><td>List()</td><td>null</td><td>577</td><td>5s1</td><td>https://cdn2.thecatapi.com/images/5s1.jpg</td><td>450</td><td>2024-10-01T16:41:19.156+0000</td></tr><tr><td>List()</td><td>null</td><td>960</td><td>9l6</td><td>https://cdn2.thecatapi.com/images/9l6.jpg</td><td>720</td><td>2024-10-01T16:41:19.156+0000</td></tr><tr><td>List()</td><td>null</td><td>3648</td><td>blj</td><td>https://cdn2.thecatapi.com/images/blj.jpg</td><td>2736</td><td>2024-10-01T16:41:19.156+0000</td></tr><tr><td>List()</td><td>null</td><td>900</td><td>c01</td><td>https://cdn2.thecatapi.com/images/c01.jpg</td><td>720</td><td>2024-10-01T16:41:19.156+0000</td></tr><tr><td>List()</td><td>null</td><td>335</td><td>5cq</td><td>https://cdn2.thecatapi.com/images/5cq.jpg</td><td>446</td><td>2024-10-01T16:41:19.156+0000</td></tr><tr><td>List()</td><td>null</td><td>188</td><td>6p3</td><td>https://cdn2.thecatapi.com/images/6p3.gif</td><td>245</td><td>2024-10-01T16:41:19.156+0000</td></tr><tr><td>List()</td><td>null</td><td>410</td><td>4on</td><td>https://cdn2.thecatapi.com/images/4on.jpg</td><td>640</td><td>2024-10-01T16:41:19.156+0000</td></tr><tr><td>List(List(3, 4, , 4, 3, http://cfa.org/Breeds/BreedsCJ/ColorpointShorthair.aspx, 4, US, US, Colorpoint Shorthairs are an affectionate breed, devoted and loyal to their people. Sensitive to their owner’s moods, Colorpoints are more than happy to sit at your side or on your lap and purr words of encouragement on a bad day. They will constantly seek out your lap whenever it is open and in the moments when your lap is preoccupied they will stretch out in sunny spots on the ground., 4, 4, 0, 2, 0, 2, 0, csho, 0, 5, 1, 12 - 16, Colorpoint Shorthair, 0, United States, 0, oSpqGyUDS, 0, 3, 0, 4, 2, 0, Affectionate, Intelligent, Playful, Social, https://vcahospitals.com/know-your-pet/cat-breeds/colorpoint-shorthair, null, 5, List(4 - 10, 2 - 5), https://en.wikipedia.org/wiki/Colorpoint_Shorthair))</td><td>null</td><td>3264</td><td>lOl0J96On</td><td>https://cdn2.thecatapi.com/images/lOl0J96On.jpg</td><td>2448</td><td>2024-10-01T16:41:19.156+0000</td></tr><tr><td>List()</td><td>null</td><td>833</td><td>8d5</td><td>https://cdn2.thecatapi.com/images/8d5.jpg</td><td>1200</td><td>2024-10-01T16:41:19.156+0000</td></tr><tr><td>List(List(5, 5, , null, null, null, 4, US, US, The Bambino is a breed of cat that was created as a cross between the Sphynx and the Munchkin breeds. The Bambino cat has short legs, large upright ears, and is usually hairless. They love to be handled and cuddled up on the laps of their family members., 5, 5, 1, 1, 1, 1, 0, bamb, 0, 5, 1, 12 - 14, Bambino, 0, United States, 0, 5AdhMjeEu, 0, 1, 1, 3, 3, 0, Affectionate, Lively, Friendly, Intelligent, null, null, 3, List(4 - 9, 2 - 4), https://en.wikipedia.org/wiki/Bambino_cat))</td><td>null</td><td>1200</td><td>wiHVRle1m</td><td>https://cdn2.thecatapi.com/images/wiHVRle1m.jpg</td><td>1600</td><td>2024-10-01T16:41:19.156+0000</td></tr><tr><td>List()</td><td>null</td><td>681</td><td>cei</td><td>https://cdn2.thecatapi.com/images/cei.jpg</td><td>500</td><td>2024-10-01T16:41:19.156+0000</td></tr><tr><td>List(List(2, 5, Pharaoh Cat, null, null, http://cfa.org/Breeds/BreedsCJ/EgyptianMau.aspx, 3, EG, EG, The Egyptian Mau is gentle and reserved. She loves her people and desires attention and affection from them but is wary of others. Early, continuing socialization is essential with this sensitive and sometimes shy cat, especially if you plan to show or travel with her. Otherwise, she can be easily startled by unexpected noises or events., 3, 5, 0, 1, 0, 3, 0, emau, 0, 4, 1, 18 - 20, Egyptian Mau, 1, Egypt, 0, TuSyTkt2n, 0, 3, 0, 4, 2, 0, Agile, Dependent, Gentle, Intelligent, Lively, Loyal, Playful, https://vcahospitals.com/know-your-pet/cat-breeds/egyptian-mau, http://www.vetstreet.com/cats/egyptian-mau, 3, List(6 - 14, 3 - 6), https://en.wikipedia.org/wiki/Egyptian_Mau))</td><td>null</td><td>2147</td><td>TuSyTkt2n</td><td>https://cdn2.thecatapi.com/images/TuSyTkt2n.jpg</td><td>2475</td><td>2024-10-01T16:41:19.156+0000</td></tr><tr><td>List()</td><td>null</td><td>960</td><td>3u2</td><td>https://cdn2.thecatapi.com/images/3u2.jpg</td><td>720</td><td>2024-10-01T16:41:19.156+0000</td></tr><tr><td>List()</td><td>null</td><td>711</td><td>a43</td><td>https://cdn2.thecatapi.com/images/a43.jpg</td><td>500</td><td>2024-10-01T16:41:19.156+0000</td></tr><tr><td>List()</td><td>null</td><td>450</td><td>cof</td><td>https://cdn2.thecatapi.com/images/cof.jpg</td><td>600</td><td>2024-10-01T16:41:19.156+0000</td></tr><tr><td>List()</td><td>null</td><td>191</td><td>dde</td><td>https://cdn2.thecatapi.com/images/dde.gif</td><td>245</td><td>2024-10-01T16:41:19.156+0000</td></tr><tr><td>List()</td><td>null</td><td>281</td><td>4hq</td><td>https://cdn2.thecatapi.com/images/4hq.gif</td><td>500</td><td>2024-10-01T16:41:19.156+0000</td></tr><tr><td>List()</td><td>null</td><td>494</td><td>ln</td><td>https://cdn2.thecatapi.com/images/ln.jpg</td><td>600</td><td>2024-10-01T16:41:19.156+0000</td></tr><tr><td>List()</td><td>null</td><td>640</td><td>MTg3NjIwNA</td><td>https://cdn2.thecatapi.com/images/MTg3NjIwNA.jpg</td><td>480</td><td>2024-10-01T16:41:19.156+0000</td></tr><tr><td>List()</td><td>null</td><td>347</td><td>eft</td><td>https://cdn2.thecatapi.com/images/eft.jpg</td><td>500</td><td>2024-10-01T16:41:19.156+0000</td></tr><tr><td>List()</td><td>null</td><td>850</td><td>MjA1NzQ3OQ</td><td>https://cdn2.thecatapi.com/images/MjA1NzQ3OQ.jpg</td><td>850</td><td>2024-10-01T16:41:19.156+0000</td></tr></tbody></table></div>"
      ]
     },
     "metadata": {
      "application/vnd.databricks.v1+output": {
       "addedWidgets": {},
       "aggData": [],
       "aggError": "",
       "aggOverflow": false,
       "aggSchema": [],
       "aggSeriesLimitReached": false,
       "aggType": "",
       "arguments": {},
       "columnCustomDisplayInfos": {},
       "data": [
        [
         [],
         null,
         332,
         "5n8",
         "https://cdn2.thecatapi.com/images/5n8.jpg",
         500,
         "2024-10-01T16:41:19.156+0000"
        ],
        [
         [],
         null,
         669,
         "MTY0MDIxOA",
         "https://cdn2.thecatapi.com/images/MTY0MDIxOA.jpg",
         500,
         "2024-10-01T16:41:19.156+0000"
        ],
        [
         [
          [
           5,
           5,
           "Longhair, Persian Longhair, Shiraz, Shirazi",
           null,
           null,
           "http://cfa.org/Breeds/BreedsKthruR/Persian.aspx",
           2,
           "IR",
           "IR",
           "Persians are sweet, gentle cats that can be playful or quiet and laid-back. Great with families and children, they absolutely love to lounge around the house. While they don’t mind a full house or active kids, they’ll usually hide when they need some alone time.",
           2,
           1,
           0,
           5,
           0,
           3,
           0,
           "pers",
           0,
           3,
           1,
           "14 - 15",
           "Persian",
           1,
           "Iran (Persia)",
           0,
           "-Zfz5z2jK",
           0,
           4,
           0,
           4,
           2,
           0,
           "Affectionate, loyal, Sedate, Quiet",
           "https://vcahospitals.com/know-your-pet/cat-breeds/persian",
           "http://www.vetstreet.com/cats/persian",
           1,
           [
            "9 - 14",
            "4 - 6"
           ],
           "https://en.wikipedia.org/wiki/Persian_(cat)"
          ]
         ],
         null,
         2304,
         "tSbM4vHB_",
         "https://cdn2.thecatapi.com/images/tSbM4vHB_.png",
         4096,
         "2024-10-01T16:41:19.156+0000"
        ],
        [
         [],
         null,
         266,
         "2j0",
         "https://cdn2.thecatapi.com/images/2j0.jpg",
         400,
         "2024-10-01T16:41:19.156+0000"
        ],
        [
         [
          [
           5,
           5,
           "Siam, Thai Cat",
           null,
           null,
           "http://cfa.org/Breeds/BreedsSthruT/Siamese.aspx",
           4,
           "TH",
           "TH",
           "While Siamese cats are extremely fond of their people, they will follow you around and supervise your every move, being talkative and opinionated. They are a demanding and social cat, that do not like being left alone for long periods.",
           5,
           5,
           0,
           1,
           0,
           1,
           1,
           "siam",
           0,
           5,
           1,
           "12 - 15",
           "Siamese",
           0,
           "Thailand",
           0,
           "ai6Jps4sx",
           0,
           2,
           0,
           5,
           5,
           0,
           "Active, Agile, Clever, Sociable, Loving, Energetic",
           "https://vcahospitals.com/know-your-pet/cat-breeds/siamese",
           "http://www.vetstreet.com/cats/siamese",
           5,
           [
            "8 - 15",
            "4 - 7"
           ],
           "https://en.wikipedia.org/wiki/Siamese_(cat)"
          ]
         ],
         null,
         809,
         "uTG1YFzJV",
         "https://cdn2.thecatapi.com/images/uTG1YFzJV.jpg",
         1080,
         "2024-10-01T16:41:19.156+0000"
        ],
        [
         [],
         null,
         500,
         "20o",
         "https://cdn2.thecatapi.com/images/20o.jpg",
         500,
         "2024-10-01T16:41:19.156+0000"
        ],
        [
         [],
         null,
         640,
         "9u8",
         "https://cdn2.thecatapi.com/images/9u8.jpg",
         480,
         "2024-10-01T16:41:19.156+0000"
        ],
        [
         [],
         null,
         864,
         "dlj",
         "https://cdn2.thecatapi.com/images/dlj.jpg",
         1152,
         "2024-10-01T16:41:19.156+0000"
        ],
        [
         [],
         null,
         768,
         "bth",
         "https://cdn2.thecatapi.com/images/bth.jpg",
         1024,
         "2024-10-01T16:41:19.156+0000"
        ],
        [
         [],
         null,
         395,
         "a5d",
         "https://cdn2.thecatapi.com/images/a5d.jpg",
         560,
         "2024-10-01T16:41:19.156+0000"
        ],
        [
         [
          [
           5,
           5,
           "Coon Cat, Maine Cat, Maine Shag, Snowshoe Cat, American Longhair, The Gentle Giants",
           null,
           null,
           "http://cfa.org/Breeds/BreedsKthruR/MaineCoon.aspx",
           4,
           "US",
           "US",
           "They are known for their size and luxurious long coat Maine Coons are considered a gentle giant. The good-natured and affable Maine Coon adapts well to many lifestyles and personalities. She likes being with people and has the habit of following them around, but isn’t needy. Most Maine Coons love water and they can be quite good swimmers.",
           5,
           3,
           0,
           3,
           0,
           3,
           0,
           "mcoo",
           0,
           5,
           1,
           "12 - 15",
           "Maine Coon",
           1,
           "United States",
           0,
           "OOD3VXAQn",
           0,
           3,
           0,
           3,
           5,
           0,
           "Adaptable, Intelligent, Loving, Gentle, Independent",
           "https://vcahospitals.com/know-your-pet/cat-breeds/maine-coon",
           "http://www.vetstreet.com/cats/maine-coon",
           1,
           [
            "12 - 18",
            "5 - 8"
           ],
           "https://en.wikipedia.org/wiki/Maine_Coon"
          ]
         ],
         null,
         2000,
         "HD4lZB6BI",
         "https://cdn2.thecatapi.com/images/HD4lZB6BI.jpg",
         1500,
         "2024-10-01T16:41:19.156+0000"
        ],
        [
         [],
         [
          [
           2,
           "space"
          ]
         ],
         315,
         "1q",
         "https://cdn2.thecatapi.com/images/1q.gif",
         500,
         "2024-10-01T16:41:19.156+0000"
        ],
        [
         [],
         [
          [
           6,
           "caturday"
          ]
         ],
         466,
         "q5",
         "https://cdn2.thecatapi.com/images/q5.jpg",
         700,
         "2024-10-01T16:41:19.156+0000"
        ],
        [
         [],
         null,
         801,
         "e1t",
         "https://cdn2.thecatapi.com/images/e1t.jpg",
         600,
         "2024-10-01T16:41:19.156+0000"
        ],
        [
         [
          [
           5,
           5,
           "",
           null,
           null,
           null,
           4,
           "US",
           "US",
           "The Munchkin is an outgoing cat who enjoys being handled. She has lots of energy and is faster and more agile than she looks. The shortness of their legs does not seem to interfere with their running and leaping abilities.",
           5,
           4,
           0,
           2,
           0,
           3,
           0,
           "munc",
           0,
           5,
           1,
           "10 - 15",
           "Munchkin",
           0,
           "United States",
           0,
           "j5cVSqLer",
           0,
           3,
           1,
           5,
           5,
           0,
           "Agile, Easy Going, Intelligent, Playful",
           null,
           "http://www.vetstreet.com/cats/munchkin",
           3,
           [
            "5 - 9",
            "2 - 4"
           ],
           "https://en.wikipedia.org/wiki/Munchkin_(cat)"
          ]
         ],
         null,
         808,
         "OjnSd2N2p",
         "https://cdn2.thecatapi.com/images/OjnSd2N2p.jpg",
         1000,
         "2024-10-01T16:41:19.156+0000"
        ],
        [
         [],
         null,
         355,
         "1gt",
         "https://cdn2.thecatapi.com/images/1gt.gif",
         190,
         "2024-10-01T16:41:19.156+0000"
        ],
        [
         [],
         [
          [
           6,
           "caturday"
          ]
         ],
         700,
         "pl",
         "https://cdn2.thecatapi.com/images/pl.jpg",
         540,
         "2024-10-01T16:41:19.156+0000"
        ],
        [
         [],
         null,
         456,
         "ei0",
         "https://cdn2.thecatapi.com/images/ei0.jpg",
         608,
         "2024-10-01T16:41:19.156+0000"
        ],
        [
         [
          [
           5,
           5,
           "Exotic",
           null,
           null,
           "http://cfa.org/Breeds/BreedsCJ/Exotic.aspx",
           3,
           "US",
           "US",
           "The Exotic Shorthair is a gentle friendly cat that has the same personality as the Persian. They love having fun, don’t mind the company of other cats and dogs, also love to curl up for a sleep in a safe place. Exotics love their own people, but around strangers they are cautious at first. Given time, they usually warm up to visitors.",
           3,
           3,
           0,
           2,
           0,
           3,
           0,
           "esho",
           0,
           3,
           1,
           "12 - 15",
           "Exotic Shorthair",
           0,
           "United States",
           0,
           "YnPrYEmfe",
           0,
           2,
           0,
           4,
           2,
           0,
           "Affectionate, Sweet, Loyal, Quiet, Peaceful",
           "https://vcahospitals.com/know-your-pet/cat-breeds/exotic-shorthair",
           "http://www.vetstreet.com/cats/exotic-shorthair",
           1,
           [
            "7 - 14",
            "3 - 6"
           ],
           "https://en.wikipedia.org/wiki/Exotic_Shorthair"
          ]
         ],
         null,
         2610,
         "ySzdVwyb1",
         "https://cdn2.thecatapi.com/images/ySzdVwyb1.jpg",
         4640,
         "2024-10-01T16:41:19.156+0000"
        ],
        [
         [],
         null,
         900,
         "MTk2OTMyNw",
         "https://cdn2.thecatapi.com/images/MTk2OTMyNw.jpg",
         900,
         "2024-10-01T16:41:19.156+0000"
        ],
        [
         [],
         null,
         331,
         "b8n",
         "https://cdn2.thecatapi.com/images/b8n.jpg",
         500,
         "2024-10-01T16:41:19.156+0000"
        ],
        [
         [],
         [
          [
           6,
           "caturday"
          ]
         ],
         417,
         "pb",
         "https://cdn2.thecatapi.com/images/pb.jpg",
         625,
         "2024-10-01T16:41:19.156+0000"
        ],
        [
         [],
         null,
         480,
         "MTgyOTY1MQ",
         "https://cdn2.thecatapi.com/images/MTgyOTY1MQ.jpg",
         640,
         "2024-10-01T16:41:19.156+0000"
        ],
        [
         [],
         null,
         456,
         "MTkxNjczNw",
         "https://cdn2.thecatapi.com/images/MTkxNjczNw.jpg",
         610,
         "2024-10-01T16:41:19.156+0000"
        ],
        [
         [],
         null,
         266,
         "MTkzMTU5Nw",
         "https://cdn2.thecatapi.com/images/MTkzMTU5Nw.gif",
         475,
         "2024-10-01T16:41:19.156+0000"
        ],
        [
         [],
         null,
         622,
         "cer",
         "https://cdn2.thecatapi.com/images/cer.jpg",
         630,
         "2024-10-01T16:41:19.156+0000"
        ],
        [
         [],
         null,
         510,
         "dkt",
         "https://cdn2.thecatapi.com/images/dkt.jpg",
         410,
         "2024-10-01T16:41:19.156+0000"
        ],
        [
         [
          [
           5,
           5,
           "Moscow Semi-longhair, HairSiberian Forest Cat",
           null,
           null,
           "http://cfa.org/Breeds/BreedsSthruT/Siberian.aspx",
           4,
           "RU",
           "RU",
           "The Siberians dog like temperament and affection makes the ideal lap cat and will live quite happily indoors. Very agile and powerful, the Siberian cat can easily leap and reach high places, including the tops of refrigerators and even doors. ",
           5,
           5,
           0,
           2,
           0,
           2,
           1,
           "sibe",
           0,
           5,
           1,
           "12 - 15",
           "Siberian",
           1,
           "Russia",
           0,
           "3bkZAjRh1",
           0,
           3,
           0,
           4,
           3,
           0,
           "Curious, Intelligent, Loyal, Sweet, Agile, Playful, Affectionate",
           "https://vcahospitals.com/know-your-pet/cat-breeds/siberian",
           "http://www.vetstreet.com/cats/siberian",
           1,
           [
            "8 - 16",
            "4 - 7"
           ],
           "https://en.wikipedia.org/wiki/Siberian_(cat)"
          ]
         ],
         null,
         1080,
         "rEcqVVVto",
         "https://cdn2.thecatapi.com/images/rEcqVVVto.jpg",
         1080,
         "2024-10-01T16:41:19.156+0000"
        ],
        [
         [],
         null,
         900,
         "9r7",
         "https://cdn2.thecatapi.com/images/9r7.jpg",
         900,
         "2024-10-01T16:41:19.156+0000"
        ],
        [
         [],
         null,
         640,
         "ats",
         "https://cdn2.thecatapi.com/images/ats.jpg",
         428,
         "2024-10-01T16:41:19.156+0000"
        ],
        [
         [],
         null,
         640,
         "cdd",
         "https://cdn2.thecatapi.com/images/cdd.jpg",
         427,
         "2024-10-01T16:41:19.156+0000"
        ],
        [
         [],
         null,
         430,
         "9vl",
         "https://cdn2.thecatapi.com/images/9vl.jpg",
         650,
         "2024-10-01T16:41:19.156+0000"
        ],
        [
         [],
         null,
         667,
         "b97",
         "https://cdn2.thecatapi.com/images/b97.jpg",
         500,
         "2024-10-01T16:41:19.156+0000"
        ],
        [
         [],
         null,
         270,
         "bl7",
         "https://cdn2.thecatapi.com/images/bl7.jpg",
         285,
         "2024-10-01T16:41:19.156+0000"
        ],
        [
         [],
         null,
         551,
         "MjA3MzYxNQ",
         "https://cdn2.thecatapi.com/images/MjA3MzYxNQ.jpg",
         405,
         "2024-10-01T16:41:19.156+0000"
        ],
        [
         [],
         null,
         384,
         "br5",
         "https://cdn2.thecatapi.com/images/br5.jpg",
         512,
         "2024-10-01T16:41:19.156+0000"
        ],
        [
         [],
         [
          [
           15,
           "clothes"
          ]
         ],
         333,
         "MTc5OTExMQ",
         "https://cdn2.thecatapi.com/images/MTc5OTExMQ.jpg",
         500,
         "2024-10-01T16:41:19.156+0000"
        ],
        [
         [],
         null,
         331,
         "9s7",
         "https://cdn2.thecatapi.com/images/9s7.jpg",
         500,
         "2024-10-01T16:41:19.156+0000"
        ],
        [
         [],
         null,
         484,
         "blr",
         "https://cdn2.thecatapi.com/images/blr.jpg",
         500,
         "2024-10-01T16:41:19.156+0000"
        ],
        [
         [],
         null,
         1936,
         "c47",
         "https://cdn2.thecatapi.com/images/c47.jpg",
         2592,
         "2024-10-01T16:41:19.156+0000"
        ],
        [
         [],
         null,
         450,
         "46l",
         "https://cdn2.thecatapi.com/images/46l.jpg",
         600,
         "2024-10-01T16:41:19.156+0000"
        ],
        [
         [],
         null,
         333,
         "d74",
         "https://cdn2.thecatapi.com/images/d74.jpg",
         500,
         "2024-10-01T16:41:19.156+0000"
        ],
        [
         [],
         null,
         2880,
         "21p",
         "https://cdn2.thecatapi.com/images/21p.jpg",
         4320,
         "2024-10-01T16:41:19.156+0000"
        ],
        [
         [],
         null,
         333,
         "db6",
         "https://cdn2.thecatapi.com/images/db6.jpg",
         500,
         "2024-10-01T16:41:19.156+0000"
        ],
        [
         [],
         null,
         335,
         "eg9",
         "https://cdn2.thecatapi.com/images/eg9.jpg",
         500,
         "2024-10-01T16:41:19.156+0000"
        ],
        [
         [],
         null,
         375,
         "efs",
         "https://cdn2.thecatapi.com/images/efs.jpg",
         500,
         "2024-10-01T16:41:19.156+0000"
        ],
        [
         [],
         null,
         281,
         "auv",
         "https://cdn2.thecatapi.com/images/auv.gif",
         500,
         "2024-10-01T16:41:19.156+0000"
        ],
        [
         [],
         null,
         424,
         "dlh",
         "https://cdn2.thecatapi.com/images/dlh.jpg",
         640,
         "2024-10-01T16:41:19.156+0000"
        ],
        [
         [],
         null,
         333,
         "e70",
         "https://cdn2.thecatapi.com/images/e70.jpg",
         500,
         "2024-10-01T16:41:19.156+0000"
        ],
        [
         [],
         null,
         533,
         "MTcwODY3OA",
         "https://cdn2.thecatapi.com/images/MTcwODY3OA.gif",
         500,
         "2024-10-01T16:41:19.156+0000"
        ],
        [
         [],
         null,
         206,
         "18s",
         "https://cdn2.thecatapi.com/images/18s.gif",
         500,
         "2024-10-01T16:41:19.156+0000"
        ],
        [
         [],
         null,
         299,
         "a22",
         "https://cdn2.thecatapi.com/images/a22.jpg",
         450,
         "2024-10-01T16:41:19.156+0000"
        ],
        [
         [
          [
           5,
           5,
           "Skogkatt / Skaukatt, Norsk Skogkatt / Norsk Skaukatt, Weegie",
           null,
           null,
           "http://cfa.org/Breeds/BreedsKthruR/NorwegianForestCat.aspx",
           4,
           "NO",
           "NO",
           "The Norwegian Forest Cat is a sweet, loving cat. She appreciates praise and loves to interact with her parent. She makes a loving companion and bonds with her parents once she accepts them for her own. She is still a hunter at heart. She loves to chase toys as if they are real. She is territorial and patrols several times each day to make certain that all is fine.",
           5,
           3,
           0,
           2,
           0,
           3,
           0,
           "norw",
           0,
           4,
           null,
           "12 - 16",
           "Norwegian Forest Cat",
           1,
           "Norway",
           0,
           "06dgGmEOV",
           0,
           3,
           0,
           5,
           5,
           0,
           "Sweet, Active, Intelligent, Social, Playful, Lively, Curious",
           "https://vcahospitals.com/know-your-pet/cat-breeds/norwegian-forest-cat",
           "http://www.vetstreet.com/cats/norwegian-forest-cat",
           1,
           [
            "8 - 16",
            "4 - 7"
           ],
           "https://en.wikipedia.org/wiki/Norwegian_Forest_Cat"
          ]
         ],
         null,
         739,
         "4mksJzUgG",
         "https://cdn2.thecatapi.com/images/4mksJzUgG.png",
         1100,
         "2024-10-01T16:41:19.156+0000"
        ],
        [
         [],
         [
          [
           2,
           "space"
          ]
         ],
         500,
         "5hd",
         "https://cdn2.thecatapi.com/images/5hd.jpg",
         499,
         "2024-10-01T16:41:19.156+0000"
        ],
        [
         [],
         null,
         600,
         "ac2",
         "https://cdn2.thecatapi.com/images/ac2.jpg",
         900,
         "2024-10-01T16:41:19.156+0000"
        ],
        [
         [],
         null,
         2272,
         "a3v",
         "https://cdn2.thecatapi.com/images/a3v.jpg",
         1704,
         "2024-10-01T16:41:19.156+0000"
        ],
        [
         [],
         null,
         423,
         "23q",
         "https://cdn2.thecatapi.com/images/23q.jpg",
         500,
         "2024-10-01T16:41:19.156+0000"
        ],
        [
         [],
         null,
         180,
         "7pb",
         "https://cdn2.thecatapi.com/images/7pb.gif",
         250,
         "2024-10-01T16:41:19.156+0000"
        ],
        [
         [],
         null,
         500,
         "2re",
         "https://cdn2.thecatapi.com/images/2re.jpg",
         375,
         "2024-10-01T16:41:19.156+0000"
        ],
        [
         [],
         null,
         313,
         "dpa",
         "https://cdn2.thecatapi.com/images/dpa.jpg",
         500,
         "2024-10-01T16:41:19.156+0000"
        ],
        [
         [],
         null,
         563,
         "c1v",
         "https://cdn2.thecatapi.com/images/c1v.jpg",
         900,
         "2024-10-01T16:41:19.156+0000"
        ],
        [
         [],
         null,
         453,
         "MTU2OTU5OA",
         "https://cdn2.thecatapi.com/images/MTU2OTU5OA.jpg",
         604,
         "2024-10-01T16:41:19.156+0000"
        ],
        [
         [],
         null,
         304,
         "4he",
         "https://cdn2.thecatapi.com/images/4he.gif",
         400,
         "2024-10-01T16:41:19.156+0000"
        ],
        [
         [],
         null,
         960,
         "d7u",
         "https://cdn2.thecatapi.com/images/d7u.jpg",
         632,
         "2024-10-01T16:41:19.156+0000"
        ],
        [
         [],
         null,
         612,
         "MjAzMDEwNw",
         "https://cdn2.thecatapi.com/images/MjAzMDEwNw.jpg",
         612,
         "2024-10-01T16:41:19.156+0000"
        ],
        [
         [],
         null,
         480,
         "MTgyOTU2Mw",
         "https://cdn2.thecatapi.com/images/MTgyOTU2Mw.jpg",
         640,
         "2024-10-01T16:41:19.156+0000"
        ],
        [
         [
          [
           5,
           5,
           "Longhair, Persian Longhair, Shiraz, Shirazi",
           null,
           null,
           "http://cfa.org/Breeds/BreedsKthruR/Persian.aspx",
           2,
           "IR",
           "IR",
           "Persians are sweet, gentle cats that can be playful or quiet and laid-back. Great with families and children, they absolutely love to lounge around the house. While they don’t mind a full house or active kids, they’ll usually hide when they need some alone time.",
           2,
           1,
           0,
           5,
           0,
           3,
           0,
           "pers",
           0,
           3,
           1,
           "14 - 15",
           "Persian",
           1,
           "Iran (Persia)",
           0,
           "-Zfz5z2jK",
           0,
           4,
           0,
           4,
           2,
           0,
           "Affectionate, loyal, Sedate, Quiet",
           "https://vcahospitals.com/know-your-pet/cat-breeds/persian",
           "http://www.vetstreet.com/cats/persian",
           1,
           [
            "9 - 14",
            "4 - 6"
           ],
           "https://en.wikipedia.org/wiki/Persian_(cat)"
          ]
         ],
         null,
         747,
         "-R_ccKPYo",
         "https://cdn2.thecatapi.com/images/-R_ccKPYo.jpg",
         1000,
         "2024-10-01T16:41:19.156+0000"
        ],
        [
         [],
         null,
         3000,
         "3hs",
         "https://cdn2.thecatapi.com/images/3hs.jpg",
         4000,
         "2024-10-01T16:41:19.156+0000"
        ],
        [
         [],
         null,
         767,
         "6rp",
         "https://cdn2.thecatapi.com/images/6rp.jpg",
         1024,
         "2024-10-01T16:41:19.156+0000"
        ],
        [
         [],
         null,
         577,
         "5s1",
         "https://cdn2.thecatapi.com/images/5s1.jpg",
         450,
         "2024-10-01T16:41:19.156+0000"
        ],
        [
         [],
         null,
         960,
         "9l6",
         "https://cdn2.thecatapi.com/images/9l6.jpg",
         720,
         "2024-10-01T16:41:19.156+0000"
        ],
        [
         [],
         null,
         3648,
         "blj",
         "https://cdn2.thecatapi.com/images/blj.jpg",
         2736,
         "2024-10-01T16:41:19.156+0000"
        ],
        [
         [],
         null,
         900,
         "c01",
         "https://cdn2.thecatapi.com/images/c01.jpg",
         720,
         "2024-10-01T16:41:19.156+0000"
        ],
        [
         [],
         null,
         335,
         "5cq",
         "https://cdn2.thecatapi.com/images/5cq.jpg",
         446,
         "2024-10-01T16:41:19.156+0000"
        ],
        [
         [],
         null,
         188,
         "6p3",
         "https://cdn2.thecatapi.com/images/6p3.gif",
         245,
         "2024-10-01T16:41:19.156+0000"
        ],
        [
         [],
         null,
         410,
         "4on",
         "https://cdn2.thecatapi.com/images/4on.jpg",
         640,
         "2024-10-01T16:41:19.156+0000"
        ],
        [
         [
          [
           3,
           4,
           "",
           4,
           3,
           "http://cfa.org/Breeds/BreedsCJ/ColorpointShorthair.aspx",
           4,
           "US",
           "US",
           "Colorpoint Shorthairs are an affectionate breed, devoted and loyal to their people. Sensitive to their owner’s moods, Colorpoints are more than happy to sit at your side or on your lap and purr words of encouragement on a bad day. They will constantly seek out your lap whenever it is open and in the moments when your lap is preoccupied they will stretch out in sunny spots on the ground.",
           4,
           4,
           0,
           2,
           0,
           2,
           0,
           "csho",
           0,
           5,
           1,
           "12 - 16",
           "Colorpoint Shorthair",
           0,
           "United States",
           0,
           "oSpqGyUDS",
           0,
           3,
           0,
           4,
           2,
           0,
           "Affectionate, Intelligent, Playful, Social",
           "https://vcahospitals.com/know-your-pet/cat-breeds/colorpoint-shorthair",
           null,
           5,
           [
            "4 - 10",
            "2 - 5"
           ],
           "https://en.wikipedia.org/wiki/Colorpoint_Shorthair"
          ]
         ],
         null,
         3264,
         "lOl0J96On",
         "https://cdn2.thecatapi.com/images/lOl0J96On.jpg",
         2448,
         "2024-10-01T16:41:19.156+0000"
        ],
        [
         [],
         null,
         833,
         "8d5",
         "https://cdn2.thecatapi.com/images/8d5.jpg",
         1200,
         "2024-10-01T16:41:19.156+0000"
        ],
        [
         [
          [
           5,
           5,
           "",
           null,
           null,
           null,
           4,
           "US",
           "US",
           "The Bambino is a breed of cat that was created as a cross between the Sphynx and the Munchkin breeds. The Bambino cat has short legs, large upright ears, and is usually hairless. They love to be handled and cuddled up on the laps of their family members.",
           5,
           5,
           1,
           1,
           1,
           1,
           0,
           "bamb",
           0,
           5,
           1,
           "12 - 14",
           "Bambino",
           0,
           "United States",
           0,
           "5AdhMjeEu",
           0,
           1,
           1,
           3,
           3,
           0,
           "Affectionate, Lively, Friendly, Intelligent",
           null,
           null,
           3,
           [
            "4 - 9",
            "2 - 4"
           ],
           "https://en.wikipedia.org/wiki/Bambino_cat"
          ]
         ],
         null,
         1200,
         "wiHVRle1m",
         "https://cdn2.thecatapi.com/images/wiHVRle1m.jpg",
         1600,
         "2024-10-01T16:41:19.156+0000"
        ],
        [
         [],
         null,
         681,
         "cei",
         "https://cdn2.thecatapi.com/images/cei.jpg",
         500,
         "2024-10-01T16:41:19.156+0000"
        ],
        [
         [
          [
           2,
           5,
           "Pharaoh Cat",
           null,
           null,
           "http://cfa.org/Breeds/BreedsCJ/EgyptianMau.aspx",
           3,
           "EG",
           "EG",
           "The Egyptian Mau is gentle and reserved. She loves her people and desires attention and affection from them but is wary of others. Early, continuing socialization is essential with this sensitive and sometimes shy cat, especially if you plan to show or travel with her. Otherwise, she can be easily startled by unexpected noises or events.",
           3,
           5,
           0,
           1,
           0,
           3,
           0,
           "emau",
           0,
           4,
           1,
           "18 - 20",
           "Egyptian Mau",
           1,
           "Egypt",
           0,
           "TuSyTkt2n",
           0,
           3,
           0,
           4,
           2,
           0,
           "Agile, Dependent, Gentle, Intelligent, Lively, Loyal, Playful",
           "https://vcahospitals.com/know-your-pet/cat-breeds/egyptian-mau",
           "http://www.vetstreet.com/cats/egyptian-mau",
           3,
           [
            "6 - 14",
            "3 - 6"
           ],
           "https://en.wikipedia.org/wiki/Egyptian_Mau"
          ]
         ],
         null,
         2147,
         "TuSyTkt2n",
         "https://cdn2.thecatapi.com/images/TuSyTkt2n.jpg",
         2475,
         "2024-10-01T16:41:19.156+0000"
        ],
        [
         [],
         null,
         960,
         "3u2",
         "https://cdn2.thecatapi.com/images/3u2.jpg",
         720,
         "2024-10-01T16:41:19.156+0000"
        ],
        [
         [],
         null,
         711,
         "a43",
         "https://cdn2.thecatapi.com/images/a43.jpg",
         500,
         "2024-10-01T16:41:19.156+0000"
        ],
        [
         [],
         null,
         450,
         "cof",
         "https://cdn2.thecatapi.com/images/cof.jpg",
         600,
         "2024-10-01T16:41:19.156+0000"
        ],
        [
         [],
         null,
         191,
         "dde",
         "https://cdn2.thecatapi.com/images/dde.gif",
         245,
         "2024-10-01T16:41:19.156+0000"
        ],
        [
         [],
         null,
         281,
         "4hq",
         "https://cdn2.thecatapi.com/images/4hq.gif",
         500,
         "2024-10-01T16:41:19.156+0000"
        ],
        [
         [],
         null,
         494,
         "ln",
         "https://cdn2.thecatapi.com/images/ln.jpg",
         600,
         "2024-10-01T16:41:19.156+0000"
        ],
        [
         [],
         null,
         640,
         "MTg3NjIwNA",
         "https://cdn2.thecatapi.com/images/MTg3NjIwNA.jpg",
         480,
         "2024-10-01T16:41:19.156+0000"
        ],
        [
         [],
         null,
         347,
         "eft",
         "https://cdn2.thecatapi.com/images/eft.jpg",
         500,
         "2024-10-01T16:41:19.156+0000"
        ],
        [
         [],
         null,
         850,
         "MjA1NzQ3OQ",
         "https://cdn2.thecatapi.com/images/MjA1NzQ3OQ.jpg",
         850,
         "2024-10-01T16:41:19.156+0000"
        ]
       ],
       "datasetInfos": [],
       "dbfsResultPath": null,
       "isJsonSchema": true,
       "metadata": {},
       "overflow": false,
       "plotOptions": {
        "customPlotOptions": {},
        "displayType": "table",
        "pivotAggregation": null,
        "pivotColumns": null,
        "xColumns": null,
        "yColumns": null
       },
       "removedWidgets": [],
       "schema": [
        {
         "metadata": "{}",
         "name": "breeds",
         "type": "{\"type\":\"array\",\"elementType\":{\"type\":\"struct\",\"fields\":[{\"name\":\"adaptability\",\"type\":\"long\",\"nullable\":true,\"metadata\":{}},{\"name\":\"affection_level\",\"type\":\"long\",\"nullable\":true,\"metadata\":{}},{\"name\":\"alt_names\",\"type\":\"string\",\"nullable\":true,\"metadata\":{}},{\"name\":\"bidability\",\"type\":\"long\",\"nullable\":true,\"metadata\":{}},{\"name\":\"cat_friendly\",\"type\":\"long\",\"nullable\":true,\"metadata\":{}},{\"name\":\"cfa_url\",\"type\":\"string\",\"nullable\":true,\"metadata\":{}},{\"name\":\"child_friendly\",\"type\":\"long\",\"nullable\":true,\"metadata\":{}},{\"name\":\"country_code\",\"type\":\"string\",\"nullable\":true,\"metadata\":{}},{\"name\":\"country_codes\",\"type\":\"string\",\"nullable\":true,\"metadata\":{}},{\"name\":\"description\",\"type\":\"string\",\"nullable\":true,\"metadata\":{}},{\"name\":\"dog_friendly\",\"type\":\"long\",\"nullable\":true,\"metadata\":{}},{\"name\":\"energy_level\",\"type\":\"long\",\"nullable\":true,\"metadata\":{}},{\"name\":\"experimental\",\"type\":\"long\",\"nullable\":true,\"metadata\":{}},{\"name\":\"grooming\",\"type\":\"long\",\"nullable\":true,\"metadata\":{}},{\"name\":\"hairless\",\"type\":\"long\",\"nullable\":true,\"metadata\":{}},{\"name\":\"health_issues\",\"type\":\"long\",\"nullable\":true,\"metadata\":{}},{\"name\":\"hypoallergenic\",\"type\":\"long\",\"nullable\":true,\"metadata\":{}},{\"name\":\"id\",\"type\":\"string\",\"nullable\":true,\"metadata\":{}},{\"name\":\"indoor\",\"type\":\"long\",\"nullable\":true,\"metadata\":{}},{\"name\":\"intelligence\",\"type\":\"long\",\"nullable\":true,\"metadata\":{}},{\"name\":\"lap\",\"type\":\"long\",\"nullable\":true,\"metadata\":{}},{\"name\":\"life_span\",\"type\":\"string\",\"nullable\":true,\"metadata\":{}},{\"name\":\"name\",\"type\":\"string\",\"nullable\":true,\"metadata\":{}},{\"name\":\"natural\",\"type\":\"long\",\"nullable\":true,\"metadata\":{}},{\"name\":\"origin\",\"type\":\"string\",\"nullable\":true,\"metadata\":{}},{\"name\":\"rare\",\"type\":\"long\",\"nullable\":true,\"metadata\":{}},{\"name\":\"reference_image_id\",\"type\":\"string\",\"nullable\":true,\"metadata\":{}},{\"name\":\"rex\",\"type\":\"long\",\"nullable\":true,\"metadata\":{}},{\"name\":\"shedding_level\",\"type\":\"long\",\"nullable\":true,\"metadata\":{}},{\"name\":\"short_legs\",\"type\":\"long\",\"nullable\":true,\"metadata\":{}},{\"name\":\"social_needs\",\"type\":\"long\",\"nullable\":true,\"metadata\":{}},{\"name\":\"stranger_friendly\",\"type\":\"long\",\"nullable\":true,\"metadata\":{}},{\"name\":\"suppressed_tail\",\"type\":\"long\",\"nullable\":true,\"metadata\":{}},{\"name\":\"temperament\",\"type\":\"string\",\"nullable\":true,\"metadata\":{}},{\"name\":\"vcahospitals_url\",\"type\":\"string\",\"nullable\":true,\"metadata\":{}},{\"name\":\"vetstreet_url\",\"type\":\"string\",\"nullable\":true,\"metadata\":{}},{\"name\":\"vocalisation\",\"type\":\"long\",\"nullable\":true,\"metadata\":{}},{\"name\":\"weight\",\"type\":{\"type\":\"struct\",\"fields\":[{\"name\":\"imperial\",\"type\":\"string\",\"nullable\":true,\"metadata\":{}},{\"name\":\"metric\",\"type\":\"string\",\"nullable\":true,\"metadata\":{}}]},\"nullable\":true,\"metadata\":{}},{\"name\":\"wikipedia_url\",\"type\":\"string\",\"nullable\":true,\"metadata\":{}}]},\"containsNull\":true}"
        },
        {
         "metadata": "{}",
         "name": "categories",
         "type": "{\"type\":\"array\",\"elementType\":{\"type\":\"struct\",\"fields\":[{\"name\":\"id\",\"type\":\"long\",\"nullable\":true,\"metadata\":{}},{\"name\":\"name\",\"type\":\"string\",\"nullable\":true,\"metadata\":{}}]},\"containsNull\":true}"
        },
        {
         "metadata": "{}",
         "name": "height",
         "type": "\"long\""
        },
        {
         "metadata": "{}",
         "name": "id",
         "type": "\"string\""
        },
        {
         "metadata": "{}",
         "name": "url",
         "type": "\"string\""
        },
        {
         "metadata": "{}",
         "name": "width",
         "type": "\"long\""
        },
        {
         "metadata": "{}",
         "name": "dt_referencia_criacao",
         "type": "\"timestamp\""
        }
       ],
       "type": "table"
      }
     },
     "output_type": "display_data"
    }
   ],
   "source": [
    "dfstg = spark.sql(\"\"\"\n",
    "    select *, dateadd(hour, -3, current_timestamp()) as dt_referencia_criacao from {df}\n",
    "\"\"\", df = df)\n",
    "dfstg.display()"
   ]
  },
  {
   "cell_type": "code",
   "execution_count": 0,
   "metadata": {
    "application/vnd.databricks.v1+cell": {
     "cellMetadata": {
      "byteLimit": 2048000,
      "rowLimit": 10000
     },
     "inputWidgets": {},
     "nuid": "414e7d93-0905-4357-9fd8-1ba10545b784",
     "showTitle": false,
     "title": ""
    }
   },
   "outputs": [],
   "source": [
    " (dfstg\n",
    "     .write\n",
    "     .format(\"delta\")\n",
    "     .mode(\"overwrite\")\n",
    "     .option(\"overwriteSchema\", True)\n",
    "     .save(\"/dbfs/tmp/dbstage/tbCat\")\n",
    ")"
   ]
  },
  {
   "cell_type": "code",
   "execution_count": 0,
   "metadata": {
    "application/vnd.databricks.v1+cell": {
     "cellMetadata": {
      "byteLimit": 2048000,
      "implicitDf": true,
      "rowLimit": 10000
     },
     "inputWidgets": {},
     "nuid": "e932bb92-48a6-4590-a7c6-b342c2312336",
     "showTitle": false,
     "title": ""
    }
   },
   "outputs": [
    {
     "output_type": "display_data",
     "data": {
      "text/html": [
       "<style scoped>\n",
       "  .table-result-container {\n",
       "    max-height: 300px;\n",
       "    overflow: auto;\n",
       "  }\n",
       "  table, th, td {\n",
       "    border: 1px solid black;\n",
       "    border-collapse: collapse;\n",
       "  }\n",
       "  th, td {\n",
       "    padding: 5px;\n",
       "  }\n",
       "  th {\n",
       "    text-align: left;\n",
       "  }\n",
       "</style><div class='table-result-container'><table class='table-result'><thead style='background-color: white'><tr></tr></thead><tbody></tbody></table></div>"
      ]
     },
     "metadata": {
      "application/vnd.databricks.v1+output": {
       "addedWidgets": {},
       "aggData": [],
       "aggError": "",
       "aggOverflow": false,
       "aggSchema": [],
       "aggSeriesLimitReached": false,
       "aggType": "",
       "arguments": {},
       "columnCustomDisplayInfos": {},
       "data": [],
       "datasetInfos": [],
       "dbfsResultPath": null,
       "isJsonSchema": true,
       "metadata": {},
       "overflow": false,
       "plotOptions": {
        "customPlotOptions": {},
        "displayType": "table",
        "pivotAggregation": null,
        "pivotColumns": null,
        "xColumns": null,
        "yColumns": null
       },
       "removedWidgets": [],
       "schema": [],
       "type": "table"
      }
     },
     "output_type": "display_data"
    }
   ],
   "source": [
    "%sql\n",
    "create table if not exists dbstage.tbcat using delta location \"/dbfs/tmp/dbstage/tbCat\""
   ]
  },
  {
   "cell_type": "code",
   "execution_count": 0,
   "metadata": {
    "application/vnd.databricks.v1+cell": {
     "cellMetadata": {
      "byteLimit": 2048000,
      "implicitDf": true,
      "rowLimit": 10000
     },
     "inputWidgets": {},
     "nuid": "38f537c6-5364-4763-bdd9-0861047e0cba",
     "showTitle": false,
     "title": ""
    }
   },
   "outputs": [
    {
     "output_type": "display_data",
     "data": {
      "text/html": [
       "<style scoped>\n",
       "  .table-result-container {\n",
       "    max-height: 300px;\n",
       "    overflow: auto;\n",
       "  }\n",
       "  table, th, td {\n",
       "    border: 1px solid black;\n",
       "    border-collapse: collapse;\n",
       "  }\n",
       "  th, td {\n",
       "    padding: 5px;\n",
       "  }\n",
       "  th {\n",
       "    text-align: left;\n",
       "  }\n",
       "</style><div class='table-result-container'><table class='table-result'><thead style='background-color: white'><tr><th>breeds</th><th>categories</th><th>height</th><th>id</th><th>url</th><th>width</th><th>dt_referencia_criacao</th></tr></thead><tbody><tr><td>List()</td><td>null</td><td>332</td><td>5n8</td><td>https://cdn2.thecatapi.com/images/5n8.jpg</td><td>500</td><td>2024-10-01T16:41:27.633+0000</td></tr><tr><td>List()</td><td>null</td><td>669</td><td>MTY0MDIxOA</td><td>https://cdn2.thecatapi.com/images/MTY0MDIxOA.jpg</td><td>500</td><td>2024-10-01T16:41:27.633+0000</td></tr><tr><td>List(List(5, 5, Longhair, Persian Longhair, Shiraz, Shirazi, null, null, http://cfa.org/Breeds/BreedsKthruR/Persian.aspx, 2, IR, IR, Persians are sweet, gentle cats that can be playful or quiet and laid-back. Great with families and children, they absolutely love to lounge around the house. While they don’t mind a full house or active kids, they’ll usually hide when they need some alone time., 2, 1, 0, 5, 0, 3, 0, pers, 0, 3, 1, 14 - 15, Persian, 1, Iran (Persia), 0, -Zfz5z2jK, 0, 4, 0, 4, 2, 0, Affectionate, loyal, Sedate, Quiet, https://vcahospitals.com/know-your-pet/cat-breeds/persian, http://www.vetstreet.com/cats/persian, 1, List(9 - 14, 4 - 6), https://en.wikipedia.org/wiki/Persian_(cat)))</td><td>null</td><td>2304</td><td>tSbM4vHB_</td><td>https://cdn2.thecatapi.com/images/tSbM4vHB_.png</td><td>4096</td><td>2024-10-01T16:41:27.633+0000</td></tr><tr><td>List()</td><td>null</td><td>266</td><td>2j0</td><td>https://cdn2.thecatapi.com/images/2j0.jpg</td><td>400</td><td>2024-10-01T16:41:27.633+0000</td></tr><tr><td>List(List(5, 5, Siam, Thai Cat, null, null, http://cfa.org/Breeds/BreedsSthruT/Siamese.aspx, 4, TH, TH, While Siamese cats are extremely fond of their people, they will follow you around and supervise your every move, being talkative and opinionated. They are a demanding and social cat, that do not like being left alone for long periods., 5, 5, 0, 1, 0, 1, 1, siam, 0, 5, 1, 12 - 15, Siamese, 0, Thailand, 0, ai6Jps4sx, 0, 2, 0, 5, 5, 0, Active, Agile, Clever, Sociable, Loving, Energetic, https://vcahospitals.com/know-your-pet/cat-breeds/siamese, http://www.vetstreet.com/cats/siamese, 5, List(8 - 15, 4 - 7), https://en.wikipedia.org/wiki/Siamese_(cat)))</td><td>null</td><td>809</td><td>uTG1YFzJV</td><td>https://cdn2.thecatapi.com/images/uTG1YFzJV.jpg</td><td>1080</td><td>2024-10-01T16:41:27.633+0000</td></tr><tr><td>List()</td><td>null</td><td>500</td><td>20o</td><td>https://cdn2.thecatapi.com/images/20o.jpg</td><td>500</td><td>2024-10-01T16:41:27.633+0000</td></tr><tr><td>List()</td><td>null</td><td>640</td><td>9u8</td><td>https://cdn2.thecatapi.com/images/9u8.jpg</td><td>480</td><td>2024-10-01T16:41:27.633+0000</td></tr><tr><td>List()</td><td>null</td><td>864</td><td>dlj</td><td>https://cdn2.thecatapi.com/images/dlj.jpg</td><td>1152</td><td>2024-10-01T16:41:27.633+0000</td></tr><tr><td>List()</td><td>null</td><td>768</td><td>bth</td><td>https://cdn2.thecatapi.com/images/bth.jpg</td><td>1024</td><td>2024-10-01T16:41:27.633+0000</td></tr><tr><td>List()</td><td>null</td><td>395</td><td>a5d</td><td>https://cdn2.thecatapi.com/images/a5d.jpg</td><td>560</td><td>2024-10-01T16:41:27.633+0000</td></tr><tr><td>List(List(5, 5, Coon Cat, Maine Cat, Maine Shag, Snowshoe Cat, American Longhair, The Gentle Giants, null, null, http://cfa.org/Breeds/BreedsKthruR/MaineCoon.aspx, 4, US, US, They are known for their size and luxurious long coat Maine Coons are considered a gentle giant. The good-natured and affable Maine Coon adapts well to many lifestyles and personalities. She likes being with people and has the habit of following them around, but isn’t needy. Most Maine Coons love water and they can be quite good swimmers., 5, 3, 0, 3, 0, 3, 0, mcoo, 0, 5, 1, 12 - 15, Maine Coon, 1, United States, 0, OOD3VXAQn, 0, 3, 0, 3, 5, 0, Adaptable, Intelligent, Loving, Gentle, Independent, https://vcahospitals.com/know-your-pet/cat-breeds/maine-coon, http://www.vetstreet.com/cats/maine-coon, 1, List(12 - 18, 5 - 8), https://en.wikipedia.org/wiki/Maine_Coon))</td><td>null</td><td>2000</td><td>HD4lZB6BI</td><td>https://cdn2.thecatapi.com/images/HD4lZB6BI.jpg</td><td>1500</td><td>2024-10-01T16:41:27.633+0000</td></tr><tr><td>List()</td><td>List(List(2, space))</td><td>315</td><td>1q</td><td>https://cdn2.thecatapi.com/images/1q.gif</td><td>500</td><td>2024-10-01T16:41:27.633+0000</td></tr><tr><td>List()</td><td>List(List(6, caturday))</td><td>466</td><td>q5</td><td>https://cdn2.thecatapi.com/images/q5.jpg</td><td>700</td><td>2024-10-01T16:41:27.633+0000</td></tr><tr><td>List()</td><td>null</td><td>801</td><td>e1t</td><td>https://cdn2.thecatapi.com/images/e1t.jpg</td><td>600</td><td>2024-10-01T16:41:27.633+0000</td></tr><tr><td>List(List(5, 5, , null, null, null, 4, US, US, The Munchkin is an outgoing cat who enjoys being handled. She has lots of energy and is faster and more agile than she looks. The shortness of their legs does not seem to interfere with their running and leaping abilities., 5, 4, 0, 2, 0, 3, 0, munc, 0, 5, 1, 10 - 15, Munchkin, 0, United States, 0, j5cVSqLer, 0, 3, 1, 5, 5, 0, Agile, Easy Going, Intelligent, Playful, null, http://www.vetstreet.com/cats/munchkin, 3, List(5 - 9, 2 - 4), https://en.wikipedia.org/wiki/Munchkin_(cat)))</td><td>null</td><td>808</td><td>OjnSd2N2p</td><td>https://cdn2.thecatapi.com/images/OjnSd2N2p.jpg</td><td>1000</td><td>2024-10-01T16:41:27.633+0000</td></tr><tr><td>List()</td><td>null</td><td>355</td><td>1gt</td><td>https://cdn2.thecatapi.com/images/1gt.gif</td><td>190</td><td>2024-10-01T16:41:27.633+0000</td></tr><tr><td>List()</td><td>List(List(6, caturday))</td><td>700</td><td>pl</td><td>https://cdn2.thecatapi.com/images/pl.jpg</td><td>540</td><td>2024-10-01T16:41:27.633+0000</td></tr><tr><td>List()</td><td>null</td><td>456</td><td>ei0</td><td>https://cdn2.thecatapi.com/images/ei0.jpg</td><td>608</td><td>2024-10-01T16:41:27.633+0000</td></tr><tr><td>List(List(5, 5, Exotic, null, null, http://cfa.org/Breeds/BreedsCJ/Exotic.aspx, 3, US, US, The Exotic Shorthair is a gentle friendly cat that has the same personality as the Persian. They love having fun, don’t mind the company of other cats and dogs, also love to curl up for a sleep in a safe place. Exotics love their own people, but around strangers they are cautious at first. Given time, they usually warm up to visitors., 3, 3, 0, 2, 0, 3, 0, esho, 0, 3, 1, 12 - 15, Exotic Shorthair, 0, United States, 0, YnPrYEmfe, 0, 2, 0, 4, 2, 0, Affectionate, Sweet, Loyal, Quiet, Peaceful, https://vcahospitals.com/know-your-pet/cat-breeds/exotic-shorthair, http://www.vetstreet.com/cats/exotic-shorthair, 1, List(7 - 14, 3 - 6), https://en.wikipedia.org/wiki/Exotic_Shorthair))</td><td>null</td><td>2610</td><td>ySzdVwyb1</td><td>https://cdn2.thecatapi.com/images/ySzdVwyb1.jpg</td><td>4640</td><td>2024-10-01T16:41:27.633+0000</td></tr><tr><td>List()</td><td>null</td><td>900</td><td>MTk2OTMyNw</td><td>https://cdn2.thecatapi.com/images/MTk2OTMyNw.jpg</td><td>900</td><td>2024-10-01T16:41:27.633+0000</td></tr><tr><td>List()</td><td>null</td><td>331</td><td>b8n</td><td>https://cdn2.thecatapi.com/images/b8n.jpg</td><td>500</td><td>2024-10-01T16:41:27.633+0000</td></tr><tr><td>List()</td><td>List(List(6, caturday))</td><td>417</td><td>pb</td><td>https://cdn2.thecatapi.com/images/pb.jpg</td><td>625</td><td>2024-10-01T16:41:27.633+0000</td></tr><tr><td>List()</td><td>null</td><td>480</td><td>MTgyOTY1MQ</td><td>https://cdn2.thecatapi.com/images/MTgyOTY1MQ.jpg</td><td>640</td><td>2024-10-01T16:41:27.633+0000</td></tr><tr><td>List()</td><td>null</td><td>456</td><td>MTkxNjczNw</td><td>https://cdn2.thecatapi.com/images/MTkxNjczNw.jpg</td><td>610</td><td>2024-10-01T16:41:27.633+0000</td></tr><tr><td>List()</td><td>null</td><td>266</td><td>MTkzMTU5Nw</td><td>https://cdn2.thecatapi.com/images/MTkzMTU5Nw.gif</td><td>475</td><td>2024-10-01T16:41:27.633+0000</td></tr><tr><td>List()</td><td>null</td><td>622</td><td>cer</td><td>https://cdn2.thecatapi.com/images/cer.jpg</td><td>630</td><td>2024-10-01T16:41:27.633+0000</td></tr><tr><td>List()</td><td>null</td><td>510</td><td>dkt</td><td>https://cdn2.thecatapi.com/images/dkt.jpg</td><td>410</td><td>2024-10-01T16:41:27.633+0000</td></tr><tr><td>List(List(5, 5, Moscow Semi-longhair, HairSiberian Forest Cat, null, null, http://cfa.org/Breeds/BreedsSthruT/Siberian.aspx, 4, RU, RU, The Siberians dog like temperament and affection makes the ideal lap cat and will live quite happily indoors. Very agile and powerful, the Siberian cat can easily leap and reach high places, including the tops of refrigerators and even doors. , 5, 5, 0, 2, 0, 2, 1, sibe, 0, 5, 1, 12 - 15, Siberian, 1, Russia, 0, 3bkZAjRh1, 0, 3, 0, 4, 3, 0, Curious, Intelligent, Loyal, Sweet, Agile, Playful, Affectionate, https://vcahospitals.com/know-your-pet/cat-breeds/siberian, http://www.vetstreet.com/cats/siberian, 1, List(8 - 16, 4 - 7), https://en.wikipedia.org/wiki/Siberian_(cat)))</td><td>null</td><td>1080</td><td>rEcqVVVto</td><td>https://cdn2.thecatapi.com/images/rEcqVVVto.jpg</td><td>1080</td><td>2024-10-01T16:41:27.633+0000</td></tr><tr><td>List()</td><td>null</td><td>900</td><td>9r7</td><td>https://cdn2.thecatapi.com/images/9r7.jpg</td><td>900</td><td>2024-10-01T16:41:27.633+0000</td></tr><tr><td>List()</td><td>null</td><td>640</td><td>ats</td><td>https://cdn2.thecatapi.com/images/ats.jpg</td><td>428</td><td>2024-10-01T16:41:27.633+0000</td></tr><tr><td>List()</td><td>null</td><td>640</td><td>cdd</td><td>https://cdn2.thecatapi.com/images/cdd.jpg</td><td>427</td><td>2024-10-01T16:41:27.633+0000</td></tr><tr><td>List()</td><td>null</td><td>430</td><td>9vl</td><td>https://cdn2.thecatapi.com/images/9vl.jpg</td><td>650</td><td>2024-10-01T16:41:27.633+0000</td></tr><tr><td>List()</td><td>null</td><td>667</td><td>b97</td><td>https://cdn2.thecatapi.com/images/b97.jpg</td><td>500</td><td>2024-10-01T16:41:27.633+0000</td></tr><tr><td>List()</td><td>null</td><td>270</td><td>bl7</td><td>https://cdn2.thecatapi.com/images/bl7.jpg</td><td>285</td><td>2024-10-01T16:41:27.633+0000</td></tr><tr><td>List()</td><td>null</td><td>551</td><td>MjA3MzYxNQ</td><td>https://cdn2.thecatapi.com/images/MjA3MzYxNQ.jpg</td><td>405</td><td>2024-10-01T16:41:27.633+0000</td></tr><tr><td>List()</td><td>null</td><td>384</td><td>br5</td><td>https://cdn2.thecatapi.com/images/br5.jpg</td><td>512</td><td>2024-10-01T16:41:27.633+0000</td></tr><tr><td>List()</td><td>List(List(15, clothes))</td><td>333</td><td>MTc5OTExMQ</td><td>https://cdn2.thecatapi.com/images/MTc5OTExMQ.jpg</td><td>500</td><td>2024-10-01T16:41:27.633+0000</td></tr><tr><td>List()</td><td>null</td><td>331</td><td>9s7</td><td>https://cdn2.thecatapi.com/images/9s7.jpg</td><td>500</td><td>2024-10-01T16:41:27.633+0000</td></tr><tr><td>List()</td><td>null</td><td>484</td><td>blr</td><td>https://cdn2.thecatapi.com/images/blr.jpg</td><td>500</td><td>2024-10-01T16:41:27.633+0000</td></tr><tr><td>List()</td><td>null</td><td>1936</td><td>c47</td><td>https://cdn2.thecatapi.com/images/c47.jpg</td><td>2592</td><td>2024-10-01T16:41:27.633+0000</td></tr><tr><td>List()</td><td>null</td><td>450</td><td>46l</td><td>https://cdn2.thecatapi.com/images/46l.jpg</td><td>600</td><td>2024-10-01T16:41:27.633+0000</td></tr><tr><td>List()</td><td>null</td><td>333</td><td>d74</td><td>https://cdn2.thecatapi.com/images/d74.jpg</td><td>500</td><td>2024-10-01T16:41:27.633+0000</td></tr><tr><td>List()</td><td>null</td><td>2880</td><td>21p</td><td>https://cdn2.thecatapi.com/images/21p.jpg</td><td>4320</td><td>2024-10-01T16:41:27.633+0000</td></tr><tr><td>List()</td><td>null</td><td>333</td><td>db6</td><td>https://cdn2.thecatapi.com/images/db6.jpg</td><td>500</td><td>2024-10-01T16:41:27.633+0000</td></tr><tr><td>List()</td><td>null</td><td>335</td><td>eg9</td><td>https://cdn2.thecatapi.com/images/eg9.jpg</td><td>500</td><td>2024-10-01T16:41:27.633+0000</td></tr><tr><td>List()</td><td>null</td><td>375</td><td>efs</td><td>https://cdn2.thecatapi.com/images/efs.jpg</td><td>500</td><td>2024-10-01T16:41:27.633+0000</td></tr><tr><td>List()</td><td>null</td><td>281</td><td>auv</td><td>https://cdn2.thecatapi.com/images/auv.gif</td><td>500</td><td>2024-10-01T16:41:27.633+0000</td></tr><tr><td>List()</td><td>null</td><td>424</td><td>dlh</td><td>https://cdn2.thecatapi.com/images/dlh.jpg</td><td>640</td><td>2024-10-01T16:41:27.633+0000</td></tr><tr><td>List()</td><td>null</td><td>333</td><td>e70</td><td>https://cdn2.thecatapi.com/images/e70.jpg</td><td>500</td><td>2024-10-01T16:41:27.633+0000</td></tr><tr><td>List()</td><td>null</td><td>533</td><td>MTcwODY3OA</td><td>https://cdn2.thecatapi.com/images/MTcwODY3OA.gif</td><td>500</td><td>2024-10-01T16:41:27.633+0000</td></tr><tr><td>List()</td><td>null</td><td>206</td><td>18s</td><td>https://cdn2.thecatapi.com/images/18s.gif</td><td>500</td><td>2024-10-01T16:41:27.633+0000</td></tr><tr><td>List()</td><td>null</td><td>299</td><td>a22</td><td>https://cdn2.thecatapi.com/images/a22.jpg</td><td>450</td><td>2024-10-01T16:41:27.633+0000</td></tr><tr><td>List(List(5, 5, Skogkatt / Skaukatt, Norsk Skogkatt / Norsk Skaukatt, Weegie, null, null, http://cfa.org/Breeds/BreedsKthruR/NorwegianForestCat.aspx, 4, NO, NO, The Norwegian Forest Cat is a sweet, loving cat. She appreciates praise and loves to interact with her parent. She makes a loving companion and bonds with her parents once she accepts them for her own. She is still a hunter at heart. She loves to chase toys as if they are real. She is territorial and patrols several times each day to make certain that all is fine., 5, 3, 0, 2, 0, 3, 0, norw, 0, 4, null, 12 - 16, Norwegian Forest Cat, 1, Norway, 0, 06dgGmEOV, 0, 3, 0, 5, 5, 0, Sweet, Active, Intelligent, Social, Playful, Lively, Curious, https://vcahospitals.com/know-your-pet/cat-breeds/norwegian-forest-cat, http://www.vetstreet.com/cats/norwegian-forest-cat, 1, List(8 - 16, 4 - 7), https://en.wikipedia.org/wiki/Norwegian_Forest_Cat))</td><td>null</td><td>739</td><td>4mksJzUgG</td><td>https://cdn2.thecatapi.com/images/4mksJzUgG.png</td><td>1100</td><td>2024-10-01T16:41:27.633+0000</td></tr><tr><td>List()</td><td>List(List(2, space))</td><td>500</td><td>5hd</td><td>https://cdn2.thecatapi.com/images/5hd.jpg</td><td>499</td><td>2024-10-01T16:41:27.633+0000</td></tr><tr><td>List()</td><td>null</td><td>600</td><td>ac2</td><td>https://cdn2.thecatapi.com/images/ac2.jpg</td><td>900</td><td>2024-10-01T16:41:27.633+0000</td></tr><tr><td>List()</td><td>null</td><td>2272</td><td>a3v</td><td>https://cdn2.thecatapi.com/images/a3v.jpg</td><td>1704</td><td>2024-10-01T16:41:27.633+0000</td></tr><tr><td>List()</td><td>null</td><td>423</td><td>23q</td><td>https://cdn2.thecatapi.com/images/23q.jpg</td><td>500</td><td>2024-10-01T16:41:27.633+0000</td></tr><tr><td>List()</td><td>null</td><td>180</td><td>7pb</td><td>https://cdn2.thecatapi.com/images/7pb.gif</td><td>250</td><td>2024-10-01T16:41:27.633+0000</td></tr><tr><td>List()</td><td>null</td><td>500</td><td>2re</td><td>https://cdn2.thecatapi.com/images/2re.jpg</td><td>375</td><td>2024-10-01T16:41:27.633+0000</td></tr><tr><td>List()</td><td>null</td><td>313</td><td>dpa</td><td>https://cdn2.thecatapi.com/images/dpa.jpg</td><td>500</td><td>2024-10-01T16:41:27.633+0000</td></tr><tr><td>List()</td><td>null</td><td>563</td><td>c1v</td><td>https://cdn2.thecatapi.com/images/c1v.jpg</td><td>900</td><td>2024-10-01T16:41:27.633+0000</td></tr><tr><td>List()</td><td>null</td><td>453</td><td>MTU2OTU5OA</td><td>https://cdn2.thecatapi.com/images/MTU2OTU5OA.jpg</td><td>604</td><td>2024-10-01T16:41:27.633+0000</td></tr><tr><td>List()</td><td>null</td><td>304</td><td>4he</td><td>https://cdn2.thecatapi.com/images/4he.gif</td><td>400</td><td>2024-10-01T16:41:27.633+0000</td></tr><tr><td>List()</td><td>null</td><td>960</td><td>d7u</td><td>https://cdn2.thecatapi.com/images/d7u.jpg</td><td>632</td><td>2024-10-01T16:41:27.633+0000</td></tr><tr><td>List()</td><td>null</td><td>612</td><td>MjAzMDEwNw</td><td>https://cdn2.thecatapi.com/images/MjAzMDEwNw.jpg</td><td>612</td><td>2024-10-01T16:41:27.633+0000</td></tr><tr><td>List()</td><td>null</td><td>480</td><td>MTgyOTU2Mw</td><td>https://cdn2.thecatapi.com/images/MTgyOTU2Mw.jpg</td><td>640</td><td>2024-10-01T16:41:27.633+0000</td></tr><tr><td>List(List(5, 5, Longhair, Persian Longhair, Shiraz, Shirazi, null, null, http://cfa.org/Breeds/BreedsKthruR/Persian.aspx, 2, IR, IR, Persians are sweet, gentle cats that can be playful or quiet and laid-back. Great with families and children, they absolutely love to lounge around the house. While they don’t mind a full house or active kids, they’ll usually hide when they need some alone time., 2, 1, 0, 5, 0, 3, 0, pers, 0, 3, 1, 14 - 15, Persian, 1, Iran (Persia), 0, -Zfz5z2jK, 0, 4, 0, 4, 2, 0, Affectionate, loyal, Sedate, Quiet, https://vcahospitals.com/know-your-pet/cat-breeds/persian, http://www.vetstreet.com/cats/persian, 1, List(9 - 14, 4 - 6), https://en.wikipedia.org/wiki/Persian_(cat)))</td><td>null</td><td>747</td><td>-R_ccKPYo</td><td>https://cdn2.thecatapi.com/images/-R_ccKPYo.jpg</td><td>1000</td><td>2024-10-01T16:41:27.633+0000</td></tr><tr><td>List()</td><td>null</td><td>3000</td><td>3hs</td><td>https://cdn2.thecatapi.com/images/3hs.jpg</td><td>4000</td><td>2024-10-01T16:41:27.633+0000</td></tr><tr><td>List()</td><td>null</td><td>767</td><td>6rp</td><td>https://cdn2.thecatapi.com/images/6rp.jpg</td><td>1024</td><td>2024-10-01T16:41:27.633+0000</td></tr><tr><td>List()</td><td>null</td><td>577</td><td>5s1</td><td>https://cdn2.thecatapi.com/images/5s1.jpg</td><td>450</td><td>2024-10-01T16:41:27.633+0000</td></tr><tr><td>List()</td><td>null</td><td>960</td><td>9l6</td><td>https://cdn2.thecatapi.com/images/9l6.jpg</td><td>720</td><td>2024-10-01T16:41:27.633+0000</td></tr><tr><td>List()</td><td>null</td><td>3648</td><td>blj</td><td>https://cdn2.thecatapi.com/images/blj.jpg</td><td>2736</td><td>2024-10-01T16:41:27.633+0000</td></tr><tr><td>List()</td><td>null</td><td>900</td><td>c01</td><td>https://cdn2.thecatapi.com/images/c01.jpg</td><td>720</td><td>2024-10-01T16:41:27.633+0000</td></tr><tr><td>List()</td><td>null</td><td>335</td><td>5cq</td><td>https://cdn2.thecatapi.com/images/5cq.jpg</td><td>446</td><td>2024-10-01T16:41:27.633+0000</td></tr><tr><td>List()</td><td>null</td><td>188</td><td>6p3</td><td>https://cdn2.thecatapi.com/images/6p3.gif</td><td>245</td><td>2024-10-01T16:41:27.633+0000</td></tr><tr><td>List()</td><td>null</td><td>410</td><td>4on</td><td>https://cdn2.thecatapi.com/images/4on.jpg</td><td>640</td><td>2024-10-01T16:41:27.633+0000</td></tr><tr><td>List(List(3, 4, , 4, 3, http://cfa.org/Breeds/BreedsCJ/ColorpointShorthair.aspx, 4, US, US, Colorpoint Shorthairs are an affectionate breed, devoted and loyal to their people. Sensitive to their owner’s moods, Colorpoints are more than happy to sit at your side or on your lap and purr words of encouragement on a bad day. They will constantly seek out your lap whenever it is open and in the moments when your lap is preoccupied they will stretch out in sunny spots on the ground., 4, 4, 0, 2, 0, 2, 0, csho, 0, 5, 1, 12 - 16, Colorpoint Shorthair, 0, United States, 0, oSpqGyUDS, 0, 3, 0, 4, 2, 0, Affectionate, Intelligent, Playful, Social, https://vcahospitals.com/know-your-pet/cat-breeds/colorpoint-shorthair, null, 5, List(4 - 10, 2 - 5), https://en.wikipedia.org/wiki/Colorpoint_Shorthair))</td><td>null</td><td>3264</td><td>lOl0J96On</td><td>https://cdn2.thecatapi.com/images/lOl0J96On.jpg</td><td>2448</td><td>2024-10-01T16:41:27.633+0000</td></tr><tr><td>List()</td><td>null</td><td>833</td><td>8d5</td><td>https://cdn2.thecatapi.com/images/8d5.jpg</td><td>1200</td><td>2024-10-01T16:41:27.633+0000</td></tr><tr><td>List(List(5, 5, , null, null, null, 4, US, US, The Bambino is a breed of cat that was created as a cross between the Sphynx and the Munchkin breeds. The Bambino cat has short legs, large upright ears, and is usually hairless. They love to be handled and cuddled up on the laps of their family members., 5, 5, 1, 1, 1, 1, 0, bamb, 0, 5, 1, 12 - 14, Bambino, 0, United States, 0, 5AdhMjeEu, 0, 1, 1, 3, 3, 0, Affectionate, Lively, Friendly, Intelligent, null, null, 3, List(4 - 9, 2 - 4), https://en.wikipedia.org/wiki/Bambino_cat))</td><td>null</td><td>1200</td><td>wiHVRle1m</td><td>https://cdn2.thecatapi.com/images/wiHVRle1m.jpg</td><td>1600</td><td>2024-10-01T16:41:27.633+0000</td></tr><tr><td>List()</td><td>null</td><td>681</td><td>cei</td><td>https://cdn2.thecatapi.com/images/cei.jpg</td><td>500</td><td>2024-10-01T16:41:27.633+0000</td></tr><tr><td>List(List(2, 5, Pharaoh Cat, null, null, http://cfa.org/Breeds/BreedsCJ/EgyptianMau.aspx, 3, EG, EG, The Egyptian Mau is gentle and reserved. She loves her people and desires attention and affection from them but is wary of others. Early, continuing socialization is essential with this sensitive and sometimes shy cat, especially if you plan to show or travel with her. Otherwise, she can be easily startled by unexpected noises or events., 3, 5, 0, 1, 0, 3, 0, emau, 0, 4, 1, 18 - 20, Egyptian Mau, 1, Egypt, 0, TuSyTkt2n, 0, 3, 0, 4, 2, 0, Agile, Dependent, Gentle, Intelligent, Lively, Loyal, Playful, https://vcahospitals.com/know-your-pet/cat-breeds/egyptian-mau, http://www.vetstreet.com/cats/egyptian-mau, 3, List(6 - 14, 3 - 6), https://en.wikipedia.org/wiki/Egyptian_Mau))</td><td>null</td><td>2147</td><td>TuSyTkt2n</td><td>https://cdn2.thecatapi.com/images/TuSyTkt2n.jpg</td><td>2475</td><td>2024-10-01T16:41:27.633+0000</td></tr><tr><td>List()</td><td>null</td><td>960</td><td>3u2</td><td>https://cdn2.thecatapi.com/images/3u2.jpg</td><td>720</td><td>2024-10-01T16:41:27.633+0000</td></tr><tr><td>List()</td><td>null</td><td>711</td><td>a43</td><td>https://cdn2.thecatapi.com/images/a43.jpg</td><td>500</td><td>2024-10-01T16:41:27.633+0000</td></tr><tr><td>List()</td><td>null</td><td>450</td><td>cof</td><td>https://cdn2.thecatapi.com/images/cof.jpg</td><td>600</td><td>2024-10-01T16:41:27.633+0000</td></tr><tr><td>List()</td><td>null</td><td>191</td><td>dde</td><td>https://cdn2.thecatapi.com/images/dde.gif</td><td>245</td><td>2024-10-01T16:41:27.633+0000</td></tr><tr><td>List()</td><td>null</td><td>281</td><td>4hq</td><td>https://cdn2.thecatapi.com/images/4hq.gif</td><td>500</td><td>2024-10-01T16:41:27.633+0000</td></tr><tr><td>List()</td><td>null</td><td>494</td><td>ln</td><td>https://cdn2.thecatapi.com/images/ln.jpg</td><td>600</td><td>2024-10-01T16:41:27.633+0000</td></tr><tr><td>List()</td><td>null</td><td>640</td><td>MTg3NjIwNA</td><td>https://cdn2.thecatapi.com/images/MTg3NjIwNA.jpg</td><td>480</td><td>2024-10-01T16:41:27.633+0000</td></tr><tr><td>List()</td><td>null</td><td>347</td><td>eft</td><td>https://cdn2.thecatapi.com/images/eft.jpg</td><td>500</td><td>2024-10-01T16:41:27.633+0000</td></tr><tr><td>List()</td><td>null</td><td>850</td><td>MjA1NzQ3OQ</td><td>https://cdn2.thecatapi.com/images/MjA1NzQ3OQ.jpg</td><td>850</td><td>2024-10-01T16:41:27.633+0000</td></tr></tbody></table></div>"
      ]
     },
     "metadata": {
      "application/vnd.databricks.v1+output": {
       "addedWidgets": {},
       "aggData": [],
       "aggError": "",
       "aggOverflow": false,
       "aggSchema": [],
       "aggSeriesLimitReached": false,
       "aggType": "",
       "arguments": {},
       "columnCustomDisplayInfos": {},
       "data": [
        [
         [],
         null,
         332,
         "5n8",
         "https://cdn2.thecatapi.com/images/5n8.jpg",
         500,
         "2024-10-01T16:41:27.633+0000"
        ],
        [
         [],
         null,
         669,
         "MTY0MDIxOA",
         "https://cdn2.thecatapi.com/images/MTY0MDIxOA.jpg",
         500,
         "2024-10-01T16:41:27.633+0000"
        ],
        [
         [
          [
           5,
           5,
           "Longhair, Persian Longhair, Shiraz, Shirazi",
           null,
           null,
           "http://cfa.org/Breeds/BreedsKthruR/Persian.aspx",
           2,
           "IR",
           "IR",
           "Persians are sweet, gentle cats that can be playful or quiet and laid-back. Great with families and children, they absolutely love to lounge around the house. While they don’t mind a full house or active kids, they’ll usually hide when they need some alone time.",
           2,
           1,
           0,
           5,
           0,
           3,
           0,
           "pers",
           0,
           3,
           1,
           "14 - 15",
           "Persian",
           1,
           "Iran (Persia)",
           0,
           "-Zfz5z2jK",
           0,
           4,
           0,
           4,
           2,
           0,
           "Affectionate, loyal, Sedate, Quiet",
           "https://vcahospitals.com/know-your-pet/cat-breeds/persian",
           "http://www.vetstreet.com/cats/persian",
           1,
           [
            "9 - 14",
            "4 - 6"
           ],
           "https://en.wikipedia.org/wiki/Persian_(cat)"
          ]
         ],
         null,
         2304,
         "tSbM4vHB_",
         "https://cdn2.thecatapi.com/images/tSbM4vHB_.png",
         4096,
         "2024-10-01T16:41:27.633+0000"
        ],
        [
         [],
         null,
         266,
         "2j0",
         "https://cdn2.thecatapi.com/images/2j0.jpg",
         400,
         "2024-10-01T16:41:27.633+0000"
        ],
        [
         [
          [
           5,
           5,
           "Siam, Thai Cat",
           null,
           null,
           "http://cfa.org/Breeds/BreedsSthruT/Siamese.aspx",
           4,
           "TH",
           "TH",
           "While Siamese cats are extremely fond of their people, they will follow you around and supervise your every move, being talkative and opinionated. They are a demanding and social cat, that do not like being left alone for long periods.",
           5,
           5,
           0,
           1,
           0,
           1,
           1,
           "siam",
           0,
           5,
           1,
           "12 - 15",
           "Siamese",
           0,
           "Thailand",
           0,
           "ai6Jps4sx",
           0,
           2,
           0,
           5,
           5,
           0,
           "Active, Agile, Clever, Sociable, Loving, Energetic",
           "https://vcahospitals.com/know-your-pet/cat-breeds/siamese",
           "http://www.vetstreet.com/cats/siamese",
           5,
           [
            "8 - 15",
            "4 - 7"
           ],
           "https://en.wikipedia.org/wiki/Siamese_(cat)"
          ]
         ],
         null,
         809,
         "uTG1YFzJV",
         "https://cdn2.thecatapi.com/images/uTG1YFzJV.jpg",
         1080,
         "2024-10-01T16:41:27.633+0000"
        ],
        [
         [],
         null,
         500,
         "20o",
         "https://cdn2.thecatapi.com/images/20o.jpg",
         500,
         "2024-10-01T16:41:27.633+0000"
        ],
        [
         [],
         null,
         640,
         "9u8",
         "https://cdn2.thecatapi.com/images/9u8.jpg",
         480,
         "2024-10-01T16:41:27.633+0000"
        ],
        [
         [],
         null,
         864,
         "dlj",
         "https://cdn2.thecatapi.com/images/dlj.jpg",
         1152,
         "2024-10-01T16:41:27.633+0000"
        ],
        [
         [],
         null,
         768,
         "bth",
         "https://cdn2.thecatapi.com/images/bth.jpg",
         1024,
         "2024-10-01T16:41:27.633+0000"
        ],
        [
         [],
         null,
         395,
         "a5d",
         "https://cdn2.thecatapi.com/images/a5d.jpg",
         560,
         "2024-10-01T16:41:27.633+0000"
        ],
        [
         [
          [
           5,
           5,
           "Coon Cat, Maine Cat, Maine Shag, Snowshoe Cat, American Longhair, The Gentle Giants",
           null,
           null,
           "http://cfa.org/Breeds/BreedsKthruR/MaineCoon.aspx",
           4,
           "US",
           "US",
           "They are known for their size and luxurious long coat Maine Coons are considered a gentle giant. The good-natured and affable Maine Coon adapts well to many lifestyles and personalities. She likes being with people and has the habit of following them around, but isn’t needy. Most Maine Coons love water and they can be quite good swimmers.",
           5,
           3,
           0,
           3,
           0,
           3,
           0,
           "mcoo",
           0,
           5,
           1,
           "12 - 15",
           "Maine Coon",
           1,
           "United States",
           0,
           "OOD3VXAQn",
           0,
           3,
           0,
           3,
           5,
           0,
           "Adaptable, Intelligent, Loving, Gentle, Independent",
           "https://vcahospitals.com/know-your-pet/cat-breeds/maine-coon",
           "http://www.vetstreet.com/cats/maine-coon",
           1,
           [
            "12 - 18",
            "5 - 8"
           ],
           "https://en.wikipedia.org/wiki/Maine_Coon"
          ]
         ],
         null,
         2000,
         "HD4lZB6BI",
         "https://cdn2.thecatapi.com/images/HD4lZB6BI.jpg",
         1500,
         "2024-10-01T16:41:27.633+0000"
        ],
        [
         [],
         [
          [
           2,
           "space"
          ]
         ],
         315,
         "1q",
         "https://cdn2.thecatapi.com/images/1q.gif",
         500,
         "2024-10-01T16:41:27.633+0000"
        ],
        [
         [],
         [
          [
           6,
           "caturday"
          ]
         ],
         466,
         "q5",
         "https://cdn2.thecatapi.com/images/q5.jpg",
         700,
         "2024-10-01T16:41:27.633+0000"
        ],
        [
         [],
         null,
         801,
         "e1t",
         "https://cdn2.thecatapi.com/images/e1t.jpg",
         600,
         "2024-10-01T16:41:27.633+0000"
        ],
        [
         [
          [
           5,
           5,
           "",
           null,
           null,
           null,
           4,
           "US",
           "US",
           "The Munchkin is an outgoing cat who enjoys being handled. She has lots of energy and is faster and more agile than she looks. The shortness of their legs does not seem to interfere with their running and leaping abilities.",
           5,
           4,
           0,
           2,
           0,
           3,
           0,
           "munc",
           0,
           5,
           1,
           "10 - 15",
           "Munchkin",
           0,
           "United States",
           0,
           "j5cVSqLer",
           0,
           3,
           1,
           5,
           5,
           0,
           "Agile, Easy Going, Intelligent, Playful",
           null,
           "http://www.vetstreet.com/cats/munchkin",
           3,
           [
            "5 - 9",
            "2 - 4"
           ],
           "https://en.wikipedia.org/wiki/Munchkin_(cat)"
          ]
         ],
         null,
         808,
         "OjnSd2N2p",
         "https://cdn2.thecatapi.com/images/OjnSd2N2p.jpg",
         1000,
         "2024-10-01T16:41:27.633+0000"
        ],
        [
         [],
         null,
         355,
         "1gt",
         "https://cdn2.thecatapi.com/images/1gt.gif",
         190,
         "2024-10-01T16:41:27.633+0000"
        ],
        [
         [],
         [
          [
           6,
           "caturday"
          ]
         ],
         700,
         "pl",
         "https://cdn2.thecatapi.com/images/pl.jpg",
         540,
         "2024-10-01T16:41:27.633+0000"
        ],
        [
         [],
         null,
         456,
         "ei0",
         "https://cdn2.thecatapi.com/images/ei0.jpg",
         608,
         "2024-10-01T16:41:27.633+0000"
        ],
        [
         [
          [
           5,
           5,
           "Exotic",
           null,
           null,
           "http://cfa.org/Breeds/BreedsCJ/Exotic.aspx",
           3,
           "US",
           "US",
           "The Exotic Shorthair is a gentle friendly cat that has the same personality as the Persian. They love having fun, don’t mind the company of other cats and dogs, also love to curl up for a sleep in a safe place. Exotics love their own people, but around strangers they are cautious at first. Given time, they usually warm up to visitors.",
           3,
           3,
           0,
           2,
           0,
           3,
           0,
           "esho",
           0,
           3,
           1,
           "12 - 15",
           "Exotic Shorthair",
           0,
           "United States",
           0,
           "YnPrYEmfe",
           0,
           2,
           0,
           4,
           2,
           0,
           "Affectionate, Sweet, Loyal, Quiet, Peaceful",
           "https://vcahospitals.com/know-your-pet/cat-breeds/exotic-shorthair",
           "http://www.vetstreet.com/cats/exotic-shorthair",
           1,
           [
            "7 - 14",
            "3 - 6"
           ],
           "https://en.wikipedia.org/wiki/Exotic_Shorthair"
          ]
         ],
         null,
         2610,
         "ySzdVwyb1",
         "https://cdn2.thecatapi.com/images/ySzdVwyb1.jpg",
         4640,
         "2024-10-01T16:41:27.633+0000"
        ],
        [
         [],
         null,
         900,
         "MTk2OTMyNw",
         "https://cdn2.thecatapi.com/images/MTk2OTMyNw.jpg",
         900,
         "2024-10-01T16:41:27.633+0000"
        ],
        [
         [],
         null,
         331,
         "b8n",
         "https://cdn2.thecatapi.com/images/b8n.jpg",
         500,
         "2024-10-01T16:41:27.633+0000"
        ],
        [
         [],
         [
          [
           6,
           "caturday"
          ]
         ],
         417,
         "pb",
         "https://cdn2.thecatapi.com/images/pb.jpg",
         625,
         "2024-10-01T16:41:27.633+0000"
        ],
        [
         [],
         null,
         480,
         "MTgyOTY1MQ",
         "https://cdn2.thecatapi.com/images/MTgyOTY1MQ.jpg",
         640,
         "2024-10-01T16:41:27.633+0000"
        ],
        [
         [],
         null,
         456,
         "MTkxNjczNw",
         "https://cdn2.thecatapi.com/images/MTkxNjczNw.jpg",
         610,
         "2024-10-01T16:41:27.633+0000"
        ],
        [
         [],
         null,
         266,
         "MTkzMTU5Nw",
         "https://cdn2.thecatapi.com/images/MTkzMTU5Nw.gif",
         475,
         "2024-10-01T16:41:27.633+0000"
        ],
        [
         [],
         null,
         622,
         "cer",
         "https://cdn2.thecatapi.com/images/cer.jpg",
         630,
         "2024-10-01T16:41:27.633+0000"
        ],
        [
         [],
         null,
         510,
         "dkt",
         "https://cdn2.thecatapi.com/images/dkt.jpg",
         410,
         "2024-10-01T16:41:27.633+0000"
        ],
        [
         [
          [
           5,
           5,
           "Moscow Semi-longhair, HairSiberian Forest Cat",
           null,
           null,
           "http://cfa.org/Breeds/BreedsSthruT/Siberian.aspx",
           4,
           "RU",
           "RU",
           "The Siberians dog like temperament and affection makes the ideal lap cat and will live quite happily indoors. Very agile and powerful, the Siberian cat can easily leap and reach high places, including the tops of refrigerators and even doors. ",
           5,
           5,
           0,
           2,
           0,
           2,
           1,
           "sibe",
           0,
           5,
           1,
           "12 - 15",
           "Siberian",
           1,
           "Russia",
           0,
           "3bkZAjRh1",
           0,
           3,
           0,
           4,
           3,
           0,
           "Curious, Intelligent, Loyal, Sweet, Agile, Playful, Affectionate",
           "https://vcahospitals.com/know-your-pet/cat-breeds/siberian",
           "http://www.vetstreet.com/cats/siberian",
           1,
           [
            "8 - 16",
            "4 - 7"
           ],
           "https://en.wikipedia.org/wiki/Siberian_(cat)"
          ]
         ],
         null,
         1080,
         "rEcqVVVto",
         "https://cdn2.thecatapi.com/images/rEcqVVVto.jpg",
         1080,
         "2024-10-01T16:41:27.633+0000"
        ],
        [
         [],
         null,
         900,
         "9r7",
         "https://cdn2.thecatapi.com/images/9r7.jpg",
         900,
         "2024-10-01T16:41:27.633+0000"
        ],
        [
         [],
         null,
         640,
         "ats",
         "https://cdn2.thecatapi.com/images/ats.jpg",
         428,
         "2024-10-01T16:41:27.633+0000"
        ],
        [
         [],
         null,
         640,
         "cdd",
         "https://cdn2.thecatapi.com/images/cdd.jpg",
         427,
         "2024-10-01T16:41:27.633+0000"
        ],
        [
         [],
         null,
         430,
         "9vl",
         "https://cdn2.thecatapi.com/images/9vl.jpg",
         650,
         "2024-10-01T16:41:27.633+0000"
        ],
        [
         [],
         null,
         667,
         "b97",
         "https://cdn2.thecatapi.com/images/b97.jpg",
         500,
         "2024-10-01T16:41:27.633+0000"
        ],
        [
         [],
         null,
         270,
         "bl7",
         "https://cdn2.thecatapi.com/images/bl7.jpg",
         285,
         "2024-10-01T16:41:27.633+0000"
        ],
        [
         [],
         null,
         551,
         "MjA3MzYxNQ",
         "https://cdn2.thecatapi.com/images/MjA3MzYxNQ.jpg",
         405,
         "2024-10-01T16:41:27.633+0000"
        ],
        [
         [],
         null,
         384,
         "br5",
         "https://cdn2.thecatapi.com/images/br5.jpg",
         512,
         "2024-10-01T16:41:27.633+0000"
        ],
        [
         [],
         [
          [
           15,
           "clothes"
          ]
         ],
         333,
         "MTc5OTExMQ",
         "https://cdn2.thecatapi.com/images/MTc5OTExMQ.jpg",
         500,
         "2024-10-01T16:41:27.633+0000"
        ],
        [
         [],
         null,
         331,
         "9s7",
         "https://cdn2.thecatapi.com/images/9s7.jpg",
         500,
         "2024-10-01T16:41:27.633+0000"
        ],
        [
         [],
         null,
         484,
         "blr",
         "https://cdn2.thecatapi.com/images/blr.jpg",
         500,
         "2024-10-01T16:41:27.633+0000"
        ],
        [
         [],
         null,
         1936,
         "c47",
         "https://cdn2.thecatapi.com/images/c47.jpg",
         2592,
         "2024-10-01T16:41:27.633+0000"
        ],
        [
         [],
         null,
         450,
         "46l",
         "https://cdn2.thecatapi.com/images/46l.jpg",
         600,
         "2024-10-01T16:41:27.633+0000"
        ],
        [
         [],
         null,
         333,
         "d74",
         "https://cdn2.thecatapi.com/images/d74.jpg",
         500,
         "2024-10-01T16:41:27.633+0000"
        ],
        [
         [],
         null,
         2880,
         "21p",
         "https://cdn2.thecatapi.com/images/21p.jpg",
         4320,
         "2024-10-01T16:41:27.633+0000"
        ],
        [
         [],
         null,
         333,
         "db6",
         "https://cdn2.thecatapi.com/images/db6.jpg",
         500,
         "2024-10-01T16:41:27.633+0000"
        ],
        [
         [],
         null,
         335,
         "eg9",
         "https://cdn2.thecatapi.com/images/eg9.jpg",
         500,
         "2024-10-01T16:41:27.633+0000"
        ],
        [
         [],
         null,
         375,
         "efs",
         "https://cdn2.thecatapi.com/images/efs.jpg",
         500,
         "2024-10-01T16:41:27.633+0000"
        ],
        [
         [],
         null,
         281,
         "auv",
         "https://cdn2.thecatapi.com/images/auv.gif",
         500,
         "2024-10-01T16:41:27.633+0000"
        ],
        [
         [],
         null,
         424,
         "dlh",
         "https://cdn2.thecatapi.com/images/dlh.jpg",
         640,
         "2024-10-01T16:41:27.633+0000"
        ],
        [
         [],
         null,
         333,
         "e70",
         "https://cdn2.thecatapi.com/images/e70.jpg",
         500,
         "2024-10-01T16:41:27.633+0000"
        ],
        [
         [],
         null,
         533,
         "MTcwODY3OA",
         "https://cdn2.thecatapi.com/images/MTcwODY3OA.gif",
         500,
         "2024-10-01T16:41:27.633+0000"
        ],
        [
         [],
         null,
         206,
         "18s",
         "https://cdn2.thecatapi.com/images/18s.gif",
         500,
         "2024-10-01T16:41:27.633+0000"
        ],
        [
         [],
         null,
         299,
         "a22",
         "https://cdn2.thecatapi.com/images/a22.jpg",
         450,
         "2024-10-01T16:41:27.633+0000"
        ],
        [
         [
          [
           5,
           5,
           "Skogkatt / Skaukatt, Norsk Skogkatt / Norsk Skaukatt, Weegie",
           null,
           null,
           "http://cfa.org/Breeds/BreedsKthruR/NorwegianForestCat.aspx",
           4,
           "NO",
           "NO",
           "The Norwegian Forest Cat is a sweet, loving cat. She appreciates praise and loves to interact with her parent. She makes a loving companion and bonds with her parents once she accepts them for her own. She is still a hunter at heart. She loves to chase toys as if they are real. She is territorial and patrols several times each day to make certain that all is fine.",
           5,
           3,
           0,
           2,
           0,
           3,
           0,
           "norw",
           0,
           4,
           null,
           "12 - 16",
           "Norwegian Forest Cat",
           1,
           "Norway",
           0,
           "06dgGmEOV",
           0,
           3,
           0,
           5,
           5,
           0,
           "Sweet, Active, Intelligent, Social, Playful, Lively, Curious",
           "https://vcahospitals.com/know-your-pet/cat-breeds/norwegian-forest-cat",
           "http://www.vetstreet.com/cats/norwegian-forest-cat",
           1,
           [
            "8 - 16",
            "4 - 7"
           ],
           "https://en.wikipedia.org/wiki/Norwegian_Forest_Cat"
          ]
         ],
         null,
         739,
         "4mksJzUgG",
         "https://cdn2.thecatapi.com/images/4mksJzUgG.png",
         1100,
         "2024-10-01T16:41:27.633+0000"
        ],
        [
         [],
         [
          [
           2,
           "space"
          ]
         ],
         500,
         "5hd",
         "https://cdn2.thecatapi.com/images/5hd.jpg",
         499,
         "2024-10-01T16:41:27.633+0000"
        ],
        [
         [],
         null,
         600,
         "ac2",
         "https://cdn2.thecatapi.com/images/ac2.jpg",
         900,
         "2024-10-01T16:41:27.633+0000"
        ],
        [
         [],
         null,
         2272,
         "a3v",
         "https://cdn2.thecatapi.com/images/a3v.jpg",
         1704,
         "2024-10-01T16:41:27.633+0000"
        ],
        [
         [],
         null,
         423,
         "23q",
         "https://cdn2.thecatapi.com/images/23q.jpg",
         500,
         "2024-10-01T16:41:27.633+0000"
        ],
        [
         [],
         null,
         180,
         "7pb",
         "https://cdn2.thecatapi.com/images/7pb.gif",
         250,
         "2024-10-01T16:41:27.633+0000"
        ],
        [
         [],
         null,
         500,
         "2re",
         "https://cdn2.thecatapi.com/images/2re.jpg",
         375,
         "2024-10-01T16:41:27.633+0000"
        ],
        [
         [],
         null,
         313,
         "dpa",
         "https://cdn2.thecatapi.com/images/dpa.jpg",
         500,
         "2024-10-01T16:41:27.633+0000"
        ],
        [
         [],
         null,
         563,
         "c1v",
         "https://cdn2.thecatapi.com/images/c1v.jpg",
         900,
         "2024-10-01T16:41:27.633+0000"
        ],
        [
         [],
         null,
         453,
         "MTU2OTU5OA",
         "https://cdn2.thecatapi.com/images/MTU2OTU5OA.jpg",
         604,
         "2024-10-01T16:41:27.633+0000"
        ],
        [
         [],
         null,
         304,
         "4he",
         "https://cdn2.thecatapi.com/images/4he.gif",
         400,
         "2024-10-01T16:41:27.633+0000"
        ],
        [
         [],
         null,
         960,
         "d7u",
         "https://cdn2.thecatapi.com/images/d7u.jpg",
         632,
         "2024-10-01T16:41:27.633+0000"
        ],
        [
         [],
         null,
         612,
         "MjAzMDEwNw",
         "https://cdn2.thecatapi.com/images/MjAzMDEwNw.jpg",
         612,
         "2024-10-01T16:41:27.633+0000"
        ],
        [
         [],
         null,
         480,
         "MTgyOTU2Mw",
         "https://cdn2.thecatapi.com/images/MTgyOTU2Mw.jpg",
         640,
         "2024-10-01T16:41:27.633+0000"
        ],
        [
         [
          [
           5,
           5,
           "Longhair, Persian Longhair, Shiraz, Shirazi",
           null,
           null,
           "http://cfa.org/Breeds/BreedsKthruR/Persian.aspx",
           2,
           "IR",
           "IR",
           "Persians are sweet, gentle cats that can be playful or quiet and laid-back. Great with families and children, they absolutely love to lounge around the house. While they don’t mind a full house or active kids, they’ll usually hide when they need some alone time.",
           2,
           1,
           0,
           5,
           0,
           3,
           0,
           "pers",
           0,
           3,
           1,
           "14 - 15",
           "Persian",
           1,
           "Iran (Persia)",
           0,
           "-Zfz5z2jK",
           0,
           4,
           0,
           4,
           2,
           0,
           "Affectionate, loyal, Sedate, Quiet",
           "https://vcahospitals.com/know-your-pet/cat-breeds/persian",
           "http://www.vetstreet.com/cats/persian",
           1,
           [
            "9 - 14",
            "4 - 6"
           ],
           "https://en.wikipedia.org/wiki/Persian_(cat)"
          ]
         ],
         null,
         747,
         "-R_ccKPYo",
         "https://cdn2.thecatapi.com/images/-R_ccKPYo.jpg",
         1000,
         "2024-10-01T16:41:27.633+0000"
        ],
        [
         [],
         null,
         3000,
         "3hs",
         "https://cdn2.thecatapi.com/images/3hs.jpg",
         4000,
         "2024-10-01T16:41:27.633+0000"
        ],
        [
         [],
         null,
         767,
         "6rp",
         "https://cdn2.thecatapi.com/images/6rp.jpg",
         1024,
         "2024-10-01T16:41:27.633+0000"
        ],
        [
         [],
         null,
         577,
         "5s1",
         "https://cdn2.thecatapi.com/images/5s1.jpg",
         450,
         "2024-10-01T16:41:27.633+0000"
        ],
        [
         [],
         null,
         960,
         "9l6",
         "https://cdn2.thecatapi.com/images/9l6.jpg",
         720,
         "2024-10-01T16:41:27.633+0000"
        ],
        [
         [],
         null,
         3648,
         "blj",
         "https://cdn2.thecatapi.com/images/blj.jpg",
         2736,
         "2024-10-01T16:41:27.633+0000"
        ],
        [
         [],
         null,
         900,
         "c01",
         "https://cdn2.thecatapi.com/images/c01.jpg",
         720,
         "2024-10-01T16:41:27.633+0000"
        ],
        [
         [],
         null,
         335,
         "5cq",
         "https://cdn2.thecatapi.com/images/5cq.jpg",
         446,
         "2024-10-01T16:41:27.633+0000"
        ],
        [
         [],
         null,
         188,
         "6p3",
         "https://cdn2.thecatapi.com/images/6p3.gif",
         245,
         "2024-10-01T16:41:27.633+0000"
        ],
        [
         [],
         null,
         410,
         "4on",
         "https://cdn2.thecatapi.com/images/4on.jpg",
         640,
         "2024-10-01T16:41:27.633+0000"
        ],
        [
         [
          [
           3,
           4,
           "",
           4,
           3,
           "http://cfa.org/Breeds/BreedsCJ/ColorpointShorthair.aspx",
           4,
           "US",
           "US",
           "Colorpoint Shorthairs are an affectionate breed, devoted and loyal to their people. Sensitive to their owner’s moods, Colorpoints are more than happy to sit at your side or on your lap and purr words of encouragement on a bad day. They will constantly seek out your lap whenever it is open and in the moments when your lap is preoccupied they will stretch out in sunny spots on the ground.",
           4,
           4,
           0,
           2,
           0,
           2,
           0,
           "csho",
           0,
           5,
           1,
           "12 - 16",
           "Colorpoint Shorthair",
           0,
           "United States",
           0,
           "oSpqGyUDS",
           0,
           3,
           0,
           4,
           2,
           0,
           "Affectionate, Intelligent, Playful, Social",
           "https://vcahospitals.com/know-your-pet/cat-breeds/colorpoint-shorthair",
           null,
           5,
           [
            "4 - 10",
            "2 - 5"
           ],
           "https://en.wikipedia.org/wiki/Colorpoint_Shorthair"
          ]
         ],
         null,
         3264,
         "lOl0J96On",
         "https://cdn2.thecatapi.com/images/lOl0J96On.jpg",
         2448,
         "2024-10-01T16:41:27.633+0000"
        ],
        [
         [],
         null,
         833,
         "8d5",
         "https://cdn2.thecatapi.com/images/8d5.jpg",
         1200,
         "2024-10-01T16:41:27.633+0000"
        ],
        [
         [
          [
           5,
           5,
           "",
           null,
           null,
           null,
           4,
           "US",
           "US",
           "The Bambino is a breed of cat that was created as a cross between the Sphynx and the Munchkin breeds. The Bambino cat has short legs, large upright ears, and is usually hairless. They love to be handled and cuddled up on the laps of their family members.",
           5,
           5,
           1,
           1,
           1,
           1,
           0,
           "bamb",
           0,
           5,
           1,
           "12 - 14",
           "Bambino",
           0,
           "United States",
           0,
           "5AdhMjeEu",
           0,
           1,
           1,
           3,
           3,
           0,
           "Affectionate, Lively, Friendly, Intelligent",
           null,
           null,
           3,
           [
            "4 - 9",
            "2 - 4"
           ],
           "https://en.wikipedia.org/wiki/Bambino_cat"
          ]
         ],
         null,
         1200,
         "wiHVRle1m",
         "https://cdn2.thecatapi.com/images/wiHVRle1m.jpg",
         1600,
         "2024-10-01T16:41:27.633+0000"
        ],
        [
         [],
         null,
         681,
         "cei",
         "https://cdn2.thecatapi.com/images/cei.jpg",
         500,
         "2024-10-01T16:41:27.633+0000"
        ],
        [
         [
          [
           2,
           5,
           "Pharaoh Cat",
           null,
           null,
           "http://cfa.org/Breeds/BreedsCJ/EgyptianMau.aspx",
           3,
           "EG",
           "EG",
           "The Egyptian Mau is gentle and reserved. She loves her people and desires attention and affection from them but is wary of others. Early, continuing socialization is essential with this sensitive and sometimes shy cat, especially if you plan to show or travel with her. Otherwise, she can be easily startled by unexpected noises or events.",
           3,
           5,
           0,
           1,
           0,
           3,
           0,
           "emau",
           0,
           4,
           1,
           "18 - 20",
           "Egyptian Mau",
           1,
           "Egypt",
           0,
           "TuSyTkt2n",
           0,
           3,
           0,
           4,
           2,
           0,
           "Agile, Dependent, Gentle, Intelligent, Lively, Loyal, Playful",
           "https://vcahospitals.com/know-your-pet/cat-breeds/egyptian-mau",
           "http://www.vetstreet.com/cats/egyptian-mau",
           3,
           [
            "6 - 14",
            "3 - 6"
           ],
           "https://en.wikipedia.org/wiki/Egyptian_Mau"
          ]
         ],
         null,
         2147,
         "TuSyTkt2n",
         "https://cdn2.thecatapi.com/images/TuSyTkt2n.jpg",
         2475,
         "2024-10-01T16:41:27.633+0000"
        ],
        [
         [],
         null,
         960,
         "3u2",
         "https://cdn2.thecatapi.com/images/3u2.jpg",
         720,
         "2024-10-01T16:41:27.633+0000"
        ],
        [
         [],
         null,
         711,
         "a43",
         "https://cdn2.thecatapi.com/images/a43.jpg",
         500,
         "2024-10-01T16:41:27.633+0000"
        ],
        [
         [],
         null,
         450,
         "cof",
         "https://cdn2.thecatapi.com/images/cof.jpg",
         600,
         "2024-10-01T16:41:27.633+0000"
        ],
        [
         [],
         null,
         191,
         "dde",
         "https://cdn2.thecatapi.com/images/dde.gif",
         245,
         "2024-10-01T16:41:27.633+0000"
        ],
        [
         [],
         null,
         281,
         "4hq",
         "https://cdn2.thecatapi.com/images/4hq.gif",
         500,
         "2024-10-01T16:41:27.633+0000"
        ],
        [
         [],
         null,
         494,
         "ln",
         "https://cdn2.thecatapi.com/images/ln.jpg",
         600,
         "2024-10-01T16:41:27.633+0000"
        ],
        [
         [],
         null,
         640,
         "MTg3NjIwNA",
         "https://cdn2.thecatapi.com/images/MTg3NjIwNA.jpg",
         480,
         "2024-10-01T16:41:27.633+0000"
        ],
        [
         [],
         null,
         347,
         "eft",
         "https://cdn2.thecatapi.com/images/eft.jpg",
         500,
         "2024-10-01T16:41:27.633+0000"
        ],
        [
         [],
         null,
         850,
         "MjA1NzQ3OQ",
         "https://cdn2.thecatapi.com/images/MjA1NzQ3OQ.jpg",
         850,
         "2024-10-01T16:41:27.633+0000"
        ]
       ],
       "datasetInfos": [],
       "dbfsResultPath": null,
       "isJsonSchema": true,
       "metadata": {},
       "overflow": false,
       "plotOptions": {
        "customPlotOptions": {},
        "displayType": "table",
        "pivotAggregation": null,
        "pivotColumns": null,
        "xColumns": null,
        "yColumns": null
       },
       "removedWidgets": [],
       "schema": [
        {
         "metadata": "{}",
         "name": "breeds",
         "type": "{\"type\":\"array\",\"elementType\":{\"type\":\"struct\",\"fields\":[{\"name\":\"adaptability\",\"type\":\"long\",\"nullable\":true,\"metadata\":{}},{\"name\":\"affection_level\",\"type\":\"long\",\"nullable\":true,\"metadata\":{}},{\"name\":\"alt_names\",\"type\":\"string\",\"nullable\":true,\"metadata\":{}},{\"name\":\"bidability\",\"type\":\"long\",\"nullable\":true,\"metadata\":{}},{\"name\":\"cat_friendly\",\"type\":\"long\",\"nullable\":true,\"metadata\":{}},{\"name\":\"cfa_url\",\"type\":\"string\",\"nullable\":true,\"metadata\":{}},{\"name\":\"child_friendly\",\"type\":\"long\",\"nullable\":true,\"metadata\":{}},{\"name\":\"country_code\",\"type\":\"string\",\"nullable\":true,\"metadata\":{}},{\"name\":\"country_codes\",\"type\":\"string\",\"nullable\":true,\"metadata\":{}},{\"name\":\"description\",\"type\":\"string\",\"nullable\":true,\"metadata\":{}},{\"name\":\"dog_friendly\",\"type\":\"long\",\"nullable\":true,\"metadata\":{}},{\"name\":\"energy_level\",\"type\":\"long\",\"nullable\":true,\"metadata\":{}},{\"name\":\"experimental\",\"type\":\"long\",\"nullable\":true,\"metadata\":{}},{\"name\":\"grooming\",\"type\":\"long\",\"nullable\":true,\"metadata\":{}},{\"name\":\"hairless\",\"type\":\"long\",\"nullable\":true,\"metadata\":{}},{\"name\":\"health_issues\",\"type\":\"long\",\"nullable\":true,\"metadata\":{}},{\"name\":\"hypoallergenic\",\"type\":\"long\",\"nullable\":true,\"metadata\":{}},{\"name\":\"id\",\"type\":\"string\",\"nullable\":true,\"metadata\":{}},{\"name\":\"indoor\",\"type\":\"long\",\"nullable\":true,\"metadata\":{}},{\"name\":\"intelligence\",\"type\":\"long\",\"nullable\":true,\"metadata\":{}},{\"name\":\"lap\",\"type\":\"long\",\"nullable\":true,\"metadata\":{}},{\"name\":\"life_span\",\"type\":\"string\",\"nullable\":true,\"metadata\":{}},{\"name\":\"name\",\"type\":\"string\",\"nullable\":true,\"metadata\":{}},{\"name\":\"natural\",\"type\":\"long\",\"nullable\":true,\"metadata\":{}},{\"name\":\"origin\",\"type\":\"string\",\"nullable\":true,\"metadata\":{}},{\"name\":\"rare\",\"type\":\"long\",\"nullable\":true,\"metadata\":{}},{\"name\":\"reference_image_id\",\"type\":\"string\",\"nullable\":true,\"metadata\":{}},{\"name\":\"rex\",\"type\":\"long\",\"nullable\":true,\"metadata\":{}},{\"name\":\"shedding_level\",\"type\":\"long\",\"nullable\":true,\"metadata\":{}},{\"name\":\"short_legs\",\"type\":\"long\",\"nullable\":true,\"metadata\":{}},{\"name\":\"social_needs\",\"type\":\"long\",\"nullable\":true,\"metadata\":{}},{\"name\":\"stranger_friendly\",\"type\":\"long\",\"nullable\":true,\"metadata\":{}},{\"name\":\"suppressed_tail\",\"type\":\"long\",\"nullable\":true,\"metadata\":{}},{\"name\":\"temperament\",\"type\":\"string\",\"nullable\":true,\"metadata\":{}},{\"name\":\"vcahospitals_url\",\"type\":\"string\",\"nullable\":true,\"metadata\":{}},{\"name\":\"vetstreet_url\",\"type\":\"string\",\"nullable\":true,\"metadata\":{}},{\"name\":\"vocalisation\",\"type\":\"long\",\"nullable\":true,\"metadata\":{}},{\"name\":\"weight\",\"type\":{\"type\":\"struct\",\"fields\":[{\"name\":\"imperial\",\"type\":\"string\",\"nullable\":true,\"metadata\":{}},{\"name\":\"metric\",\"type\":\"string\",\"nullable\":true,\"metadata\":{}}]},\"nullable\":true,\"metadata\":{}},{\"name\":\"wikipedia_url\",\"type\":\"string\",\"nullable\":true,\"metadata\":{}}]},\"containsNull\":true}"
        },
        {
         "metadata": "{}",
         "name": "categories",
         "type": "{\"type\":\"array\",\"elementType\":{\"type\":\"struct\",\"fields\":[{\"name\":\"id\",\"type\":\"long\",\"nullable\":true,\"metadata\":{}},{\"name\":\"name\",\"type\":\"string\",\"nullable\":true,\"metadata\":{}}]},\"containsNull\":true}"
        },
        {
         "metadata": "{}",
         "name": "height",
         "type": "\"long\""
        },
        {
         "metadata": "{}",
         "name": "id",
         "type": "\"string\""
        },
        {
         "metadata": "{}",
         "name": "url",
         "type": "\"string\""
        },
        {
         "metadata": "{}",
         "name": "width",
         "type": "\"long\""
        },
        {
         "metadata": "{}",
         "name": "dt_referencia_criacao",
         "type": "\"timestamp\""
        }
       ],
       "type": "table"
      }
     },
     "output_type": "display_data"
    }
   ],
   "source": [
    "%sql\n",
    "select * from dbstage.tbcat"
   ]
  }
 ],
 "metadata": {
  "application/vnd.databricks.v1+notebook": {
   "dashboards": [],
   "environmentMetadata": null,
   "language": "python",
   "notebookMetadata": {
    "mostRecentlyExecutedCommandWithImplicitDF": {
     "commandId": 3812268436190947,
     "dataframes": [
      "_sqldf"
     ]
    },
    "pythonIndentUnit": 4
   },
   "notebookName": "NboStageCat",
   "widgets": {}
  }
 },
 "nbformat": 4,
 "nbformat_minor": 0
}
